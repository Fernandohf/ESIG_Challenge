{
 "cells": [
  {
   "cell_type": "markdown",
   "metadata": {},
   "source": [
    "# Aquisição dos Dados"
   ]
  },
  {
   "cell_type": "markdown",
   "metadata": {},
   "source": [
    "Aqui os dados foram baixados usando [Kaggle's API](https://github.com/Kaggle/kaggle-api#api-credentials). Siga o link para instruções de como utilizá-la."
   ]
  },
  {
   "cell_type": "markdown",
   "metadata": {},
   "source": [
    "## Para uso no Google's Colab "
   ]
  },
  {
   "cell_type": "code",
   "execution_count": null,
   "metadata": {},
   "outputs": [],
   "source": [
    "# For google colab only\n",
    "!pip install kaggle"
   ]
  },
  {
   "cell_type": "code",
   "execution_count": null,
   "metadata": {},
   "outputs": [],
   "source": [
    "# Upload api key kaggle.json\n",
    "from google.colab import files\n",
    "files.upload()"
   ]
  },
  {
   "cell_type": "code",
   "execution_count": null,
   "metadata": {},
   "outputs": [],
   "source": [
    "# Create folder /.kaggle\n",
    "!mkdir -p ~/.kaggle\n",
    "# Move API key to folder\n",
    "!cp kaggle.json ~/.kaggle/"
   ]
  },
  {
   "cell_type": "markdown",
   "metadata": {},
   "source": [
    "## Comece Aqui!"
   ]
  },
  {
   "cell_type": "markdown",
   "metadata": {},
   "source": [
    "Pesquisar as competições com o termo **taxi**"
   ]
  },
  {
   "cell_type": "code",
   "execution_count": 1,
   "metadata": {},
   "outputs": [
    {
     "name": "stdout",
     "output_type": "stream",
     "text": [
      "ref                                        deadline             category       reward  teamCount  userHasEntered  \n",
      "-----------------------------------------  -------------------  ----------  ---------  ---------  --------------  \n",
      "nyc-taxi-trip-duration                     2017-09-15 23:59:00  Playground    $30,000       1257           False  \n",
      "pkdd-15-predict-taxi-service-trajectory-i  2015-07-01 23:59:00  Research         $250        381           False  \n",
      "pkdd-15-taxi-trip-time-prediction-ii       2015-07-01 23:59:00  Research         $250        345           False  \n",
      "new-york-city-taxi-fare-prediction         2018-09-25 23:59:00  Playground  Knowledge       1488            True  \n"
     ]
    }
   ],
   "source": [
    "!kaggle competitions list -s taxi"
   ]
  },
  {
   "cell_type": "markdown",
   "metadata": {},
   "source": [
    "Selecionar a competição de interesse, nesse caso, **New York City Taxi Fare Prediction**."
   ]
  },
  {
   "cell_type": "code",
   "execution_count": 3,
   "metadata": {},
   "outputs": [
    {
     "name": "stdout",
     "output_type": "stream",
     "text": [
      "name                           size  creationDate         \n",
      "----------------------------  -----  -------------------  \n",
      "sample_submission.csv         335KB  2018-07-17 17:27:19  \n",
      "test.csv                      960KB  2018-07-24 23:29:50  \n",
      "train.csv                       5GB  2018-07-25 00:41:39  \n",
      "GCP-Coupons-Instructions.rtf   486B  2018-07-24 23:29:48  \n"
     ]
    }
   ],
   "source": [
    "!kaggle competitions files -c new-york-city-taxi-fare-prediction"
   ]
  },
  {
   "cell_type": "markdown",
   "metadata": {},
   "source": [
    "Finalmente, baixar os arquivos usando a API na pasta `data`."
   ]
  },
  {
   "cell_type": "code",
   "execution_count": 6,
   "metadata": {},
   "outputs": [
    {
     "name": "stderr",
     "output_type": "stream",
     "text": [
      "J  existe uma subpasta ou um arquivo data.\n"
     ]
    }
   ],
   "source": [
    "!mkdir data_taxi"
   ]
  },
  {
   "cell_type": "code",
   "execution_count": null,
   "metadata": {},
   "outputs": [],
   "source": [
    "!kaggle competitions download -c new-york-city-taxi-fare-prediction -p data_taxi"
   ]
  },
  {
   "cell_type": "markdown",
   "metadata": {
    "colab_type": "text",
    "id": "iapz_gk4bL4Q"
   },
   "source": [
    "# EDA\n",
    "Agora que os dados estão disponíveis, podemos explorá-los. Nessa etapa, os dados serão analisados e visualizados com o intuito de se obter insights e informações adicionais.\n",
    "\n",
    "Inicialmente, vamos dá uma olhada superficial na descrição disponível dos dados. No prórprio site da competição do [Kaggle](https://www.kaggle.com/c/new-york-city-taxi-fare-prediction/data) pode-se notar que os dados de treinamento correspondem a **5.3GB** e as sequintes informações sobre as colunas.\n"
   ]
  },
  {
   "cell_type": "markdown",
   "metadata": {},
   "source": [
    "## Features (Colunas)\n",
    "\n",
    "Aqui podemos notar quais são as **Features** de cada observação e suas respectivas descrições.\n",
    "\n",
    "- **key**: string única para identificar a corrida - 🆔\n",
    "- **fare_amount** : Tarifa da corrida - 🎯\n",
    "- **pickup_datetime**: Valor indicando quando a corrida começou.\n",
    "- **pickup_longitude**: Longitude no início da corrida.\n",
    "- **pickup_latitude**: Latitude no início da corrida inicial.\n",
    "- **dropoff_longitude**: Longitude no final da corrida inicial.\n",
    "- **dropoff_latitude** : Latitude no final da corrida inicial.\n",
    "- **passenger_count** : Número de passageiros na corrida.\n"
   ]
  },
  {
   "cell_type": "markdown",
   "metadata": {},
   "source": [
    "\n",
    "**OBS.:Aqui algumas medidas foram tomadas em relação ao tamanho do dataset. Os dados corresponde a 55 milhões de observações, porém apenas 3 milhões foram carregados para possibilitar a utilização dos dados de forma eficiente. Idealmente, todos os dados disponíveis seriam utilizados, mas, infelizmente, o hardware disponível não é capaz de carregar todos os dados na memória. Além disso, a coluna com `timestamps` já foi considerada no carregamento dos dados.**\n"
   ]
  },
  {
   "cell_type": "code",
   "execution_count": 1,
   "metadata": {},
   "outputs": [],
   "source": [
    "# Import EDA libraries\n",
    "import pandas as pd\n",
    "import seaborn as sns\n",
    "import matplotlib.pyplot as plt\n",
    "import missingno as msno\n",
    "sns.set()"
   ]
  },
  {
   "cell_type": "code",
   "execution_count": 2,
   "metadata": {
    "colab": {},
    "colab_type": "code",
    "id": "FWquy7FRbL4R"
   },
   "outputs": [],
   "source": [
    "# Load data\n",
    "train = pd.read_csv(\"data_taxi/train.csv\", nrows=3000000, parse_dates=[\"pickup_datetime\"], infer_datetime_format=True)\n",
    "# test = pd.read_csv(\"data_taxi/test.csv\", parse_dates=[\"pickup_datetime\"], infer_datetime_format=True)"
   ]
  },
  {
   "cell_type": "code",
   "execution_count": 3,
   "metadata": {},
   "outputs": [
    {
     "data": {
      "text/html": [
       "<div>\n",
       "<style scoped>\n",
       "    .dataframe tbody tr th:only-of-type {\n",
       "        vertical-align: middle;\n",
       "    }\n",
       "\n",
       "    .dataframe tbody tr th {\n",
       "        vertical-align: top;\n",
       "    }\n",
       "\n",
       "    .dataframe thead th {\n",
       "        text-align: right;\n",
       "    }\n",
       "</style>\n",
       "<table border=\"1\" class=\"dataframe\">\n",
       "  <thead>\n",
       "    <tr style=\"text-align: right;\">\n",
       "      <th></th>\n",
       "      <th>key</th>\n",
       "      <th>fare_amount</th>\n",
       "      <th>pickup_datetime</th>\n",
       "      <th>pickup_longitude</th>\n",
       "      <th>pickup_latitude</th>\n",
       "      <th>dropoff_longitude</th>\n",
       "      <th>dropoff_latitude</th>\n",
       "      <th>passenger_count</th>\n",
       "    </tr>\n",
       "  </thead>\n",
       "  <tbody>\n",
       "    <tr>\n",
       "      <th>0</th>\n",
       "      <td>2009-06-15 17:26:21.0000001</td>\n",
       "      <td>4.5</td>\n",
       "      <td>2009-06-15 17:26:21</td>\n",
       "      <td>-73.844311</td>\n",
       "      <td>40.721319</td>\n",
       "      <td>-73.841610</td>\n",
       "      <td>40.712278</td>\n",
       "      <td>1</td>\n",
       "    </tr>\n",
       "    <tr>\n",
       "      <th>1</th>\n",
       "      <td>2010-01-05 16:52:16.0000002</td>\n",
       "      <td>16.9</td>\n",
       "      <td>2010-01-05 16:52:16</td>\n",
       "      <td>-74.016048</td>\n",
       "      <td>40.711303</td>\n",
       "      <td>-73.979268</td>\n",
       "      <td>40.782004</td>\n",
       "      <td>1</td>\n",
       "    </tr>\n",
       "    <tr>\n",
       "      <th>2</th>\n",
       "      <td>2011-08-18 00:35:00.00000049</td>\n",
       "      <td>5.7</td>\n",
       "      <td>2011-08-18 00:35:00</td>\n",
       "      <td>-73.982738</td>\n",
       "      <td>40.761270</td>\n",
       "      <td>-73.991242</td>\n",
       "      <td>40.750562</td>\n",
       "      <td>2</td>\n",
       "    </tr>\n",
       "    <tr>\n",
       "      <th>3</th>\n",
       "      <td>2012-04-21 04:30:42.0000001</td>\n",
       "      <td>7.7</td>\n",
       "      <td>2012-04-21 04:30:42</td>\n",
       "      <td>-73.987130</td>\n",
       "      <td>40.733143</td>\n",
       "      <td>-73.991567</td>\n",
       "      <td>40.758092</td>\n",
       "      <td>1</td>\n",
       "    </tr>\n",
       "    <tr>\n",
       "      <th>4</th>\n",
       "      <td>2010-03-09 07:51:00.000000135</td>\n",
       "      <td>5.3</td>\n",
       "      <td>2010-03-09 07:51:00</td>\n",
       "      <td>-73.968095</td>\n",
       "      <td>40.768008</td>\n",
       "      <td>-73.956655</td>\n",
       "      <td>40.783762</td>\n",
       "      <td>1</td>\n",
       "    </tr>\n",
       "  </tbody>\n",
       "</table>\n",
       "</div>"
      ],
      "text/plain": [
       "                             key  fare_amount     pickup_datetime  \\\n",
       "0    2009-06-15 17:26:21.0000001          4.5 2009-06-15 17:26:21   \n",
       "1    2010-01-05 16:52:16.0000002         16.9 2010-01-05 16:52:16   \n",
       "2   2011-08-18 00:35:00.00000049          5.7 2011-08-18 00:35:00   \n",
       "3    2012-04-21 04:30:42.0000001          7.7 2012-04-21 04:30:42   \n",
       "4  2010-03-09 07:51:00.000000135          5.3 2010-03-09 07:51:00   \n",
       "\n",
       "   pickup_longitude  pickup_latitude  dropoff_longitude  dropoff_latitude  \\\n",
       "0        -73.844311        40.721319         -73.841610         40.712278   \n",
       "1        -74.016048        40.711303         -73.979268         40.782004   \n",
       "2        -73.982738        40.761270         -73.991242         40.750562   \n",
       "3        -73.987130        40.733143         -73.991567         40.758092   \n",
       "4        -73.968095        40.768008         -73.956655         40.783762   \n",
       "\n",
       "   passenger_count  \n",
       "0                1  \n",
       "1                1  \n",
       "2                2  \n",
       "3                1  \n",
       "4                1  "
      ]
     },
     "execution_count": 3,
     "metadata": {},
     "output_type": "execute_result"
    }
   ],
   "source": [
    "# Brief table visualization\n",
    "train.head()"
   ]
  },
  {
   "cell_type": "code",
   "execution_count": 4,
   "metadata": {},
   "outputs": [
    {
     "name": "stdout",
     "output_type": "stream",
     "text": [
      "<class 'pandas.core.frame.DataFrame'>\n",
      "RangeIndex: 3000000 entries, 0 to 2999999\n",
      "Data columns (total 8 columns):\n",
      "key                  object\n",
      "fare_amount          float64\n",
      "pickup_datetime      datetime64[ns]\n",
      "pickup_longitude     float64\n",
      "pickup_latitude      float64\n",
      "dropoff_longitude    float64\n",
      "dropoff_latitude     float64\n",
      "passenger_count      int64\n",
      "dtypes: datetime64[ns](1), float64(5), int64(1), object(1)\n",
      "memory usage: 183.1+ MB\n"
     ]
    }
   ],
   "source": [
    "# brief information\n",
    "train.info()"
   ]
  },
  {
   "cell_type": "markdown",
   "metadata": {},
   "source": [
    "Vamos observar algumas estatísticas das colunas."
   ]
  },
  {
   "cell_type": "code",
   "execution_count": 5,
   "metadata": {},
   "outputs": [
    {
     "data": {
      "text/html": [
       "<div>\n",
       "<style scoped>\n",
       "    .dataframe tbody tr th:only-of-type {\n",
       "        vertical-align: middle;\n",
       "    }\n",
       "\n",
       "    .dataframe tbody tr th {\n",
       "        vertical-align: top;\n",
       "    }\n",
       "\n",
       "    .dataframe thead th {\n",
       "        text-align: right;\n",
       "    }\n",
       "</style>\n",
       "<table border=\"1\" class=\"dataframe\">\n",
       "  <thead>\n",
       "    <tr style=\"text-align: right;\">\n",
       "      <th></th>\n",
       "      <th>fare_amount</th>\n",
       "      <th>pickup_longitude</th>\n",
       "      <th>pickup_latitude</th>\n",
       "      <th>dropoff_longitude</th>\n",
       "      <th>dropoff_latitude</th>\n",
       "      <th>passenger_count</th>\n",
       "    </tr>\n",
       "  </thead>\n",
       "  <tbody>\n",
       "    <tr>\n",
       "      <th>count</th>\n",
       "      <td>3.000000e+06</td>\n",
       "      <td>3.000000e+06</td>\n",
       "      <td>3.000000e+06</td>\n",
       "      <td>2.999977e+06</td>\n",
       "      <td>2.999977e+06</td>\n",
       "      <td>3.000000e+06</td>\n",
       "    </tr>\n",
       "    <tr>\n",
       "      <th>mean</th>\n",
       "      <td>1.134246e+01</td>\n",
       "      <td>-7.250894e+01</td>\n",
       "      <td>3.992033e+01</td>\n",
       "      <td>-7.250740e+01</td>\n",
       "      <td>3.991728e+01</td>\n",
       "      <td>1.684528e+00</td>\n",
       "    </tr>\n",
       "    <tr>\n",
       "      <th>std</th>\n",
       "      <td>9.828907e+00</td>\n",
       "      <td>1.320223e+01</td>\n",
       "      <td>8.644440e+00</td>\n",
       "      <td>1.308827e+01</td>\n",
       "      <td>9.984419e+00</td>\n",
       "      <td>1.329084e+00</td>\n",
       "    </tr>\n",
       "    <tr>\n",
       "      <th>min</th>\n",
       "      <td>-6.200000e+01</td>\n",
       "      <td>-3.426609e+03</td>\n",
       "      <td>-3.488080e+03</td>\n",
       "      <td>-3.408430e+03</td>\n",
       "      <td>-3.488080e+03</td>\n",
       "      <td>0.000000e+00</td>\n",
       "    </tr>\n",
       "    <tr>\n",
       "      <th>25%</th>\n",
       "      <td>6.000000e+00</td>\n",
       "      <td>-7.399207e+01</td>\n",
       "      <td>4.073492e+01</td>\n",
       "      <td>-7.399139e+01</td>\n",
       "      <td>4.073402e+01</td>\n",
       "      <td>1.000000e+00</td>\n",
       "    </tr>\n",
       "    <tr>\n",
       "      <th>50%</th>\n",
       "      <td>8.500000e+00</td>\n",
       "      <td>-7.398181e+01</td>\n",
       "      <td>4.075263e+01</td>\n",
       "      <td>-7.398016e+01</td>\n",
       "      <td>4.075315e+01</td>\n",
       "      <td>1.000000e+00</td>\n",
       "    </tr>\n",
       "    <tr>\n",
       "      <th>75%</th>\n",
       "      <td>1.250000e+01</td>\n",
       "      <td>-7.396710e+01</td>\n",
       "      <td>4.076712e+01</td>\n",
       "      <td>-7.396367e+01</td>\n",
       "      <td>4.076811e+01</td>\n",
       "      <td>2.000000e+00</td>\n",
       "    </tr>\n",
       "    <tr>\n",
       "      <th>max</th>\n",
       "      <td>1.273310e+03</td>\n",
       "      <td>3.439426e+03</td>\n",
       "      <td>2.912465e+03</td>\n",
       "      <td>3.457622e+03</td>\n",
       "      <td>3.345917e+03</td>\n",
       "      <td>2.080000e+02</td>\n",
       "    </tr>\n",
       "  </tbody>\n",
       "</table>\n",
       "</div>"
      ],
      "text/plain": [
       "        fare_amount  pickup_longitude  pickup_latitude  dropoff_longitude  \\\n",
       "count  3.000000e+06      3.000000e+06     3.000000e+06       2.999977e+06   \n",
       "mean   1.134246e+01     -7.250894e+01     3.992033e+01      -7.250740e+01   \n",
       "std    9.828907e+00      1.320223e+01     8.644440e+00       1.308827e+01   \n",
       "min   -6.200000e+01     -3.426609e+03    -3.488080e+03      -3.408430e+03   \n",
       "25%    6.000000e+00     -7.399207e+01     4.073492e+01      -7.399139e+01   \n",
       "50%    8.500000e+00     -7.398181e+01     4.075263e+01      -7.398016e+01   \n",
       "75%    1.250000e+01     -7.396710e+01     4.076712e+01      -7.396367e+01   \n",
       "max    1.273310e+03      3.439426e+03     2.912465e+03       3.457622e+03   \n",
       "\n",
       "       dropoff_latitude  passenger_count  \n",
       "count      2.999977e+06     3.000000e+06  \n",
       "mean       3.991728e+01     1.684528e+00  \n",
       "std        9.984419e+00     1.329084e+00  \n",
       "min       -3.488080e+03     0.000000e+00  \n",
       "25%        4.073402e+01     1.000000e+00  \n",
       "50%        4.075315e+01     1.000000e+00  \n",
       "75%        4.076811e+01     2.000000e+00  \n",
       "max        3.345917e+03     2.080000e+02  "
      ]
     },
     "execution_count": 5,
     "metadata": {},
     "output_type": "execute_result"
    }
   ],
   "source": [
    "# Description of numeric variables\n",
    "train.describe()"
   ]
  },
  {
   "cell_type": "code",
   "execution_count": 12,
   "metadata": {
    "colab": {},
    "colab_type": "code",
    "id": "BPE04u4RbL4V"
   },
   "outputs": [
    {
     "data": {
      "text/plain": [
       "Index(['key', 'fare_amount', 'pickup_datetime', 'pickup_longitude',\n",
       "       'pickup_latitude', 'dropoff_longitude', 'dropoff_latitude',\n",
       "       'passenger_count'],\n",
       "      dtype='object')"
      ]
     },
     "execution_count": 12,
     "metadata": {},
     "output_type": "execute_result"
    }
   ],
   "source": [
    "# Features\n",
    "train.columns"
   ]
  },
  {
   "cell_type": "code",
   "execution_count": 7,
   "metadata": {
    "colab": {},
    "colab_type": "code",
    "id": "sBcr5bYhbL4j",
    "scrolled": true
   },
   "outputs": [
    {
     "data": {
      "text/plain": [
       "(3000000, 8)"
      ]
     },
     "execution_count": 7,
     "metadata": {},
     "output_type": "execute_result"
    }
   ],
   "source": [
    "# Data size\n",
    "train.shape"
   ]
  },
  {
   "cell_type": "markdown",
   "metadata": {},
   "source": [
    "## Limpeza\n",
    "\n",
    "Agora que temos uma noção geral dos dados, vamos realizar algumas operações para verificar se se há dados faltando, duplicados ou outras inconsistências."
   ]
  },
  {
   "cell_type": "code",
   "execution_count": 8,
   "metadata": {},
   "outputs": [
    {
     "data": {
      "text/plain": [
       "0"
      ]
     },
     "execution_count": 8,
     "metadata": {},
     "output_type": "execute_result"
    }
   ],
   "source": [
    "# Look for duplicates\n",
    "train.duplicated().sum()"
   ]
  },
  {
   "cell_type": "code",
   "execution_count": 11,
   "metadata": {},
   "outputs": [
    {
     "data": {
      "text/plain": [
       "key                   0\n",
       "fare_amount           0\n",
       "pickup_datetime       0\n",
       "pickup_longitude      0\n",
       "pickup_latitude       0\n",
       "dropoff_longitude    23\n",
       "dropoff_latitude     23\n",
       "passenger_count       0\n",
       "dtype: int64"
      ]
     },
     "execution_count": 11,
     "metadata": {},
     "output_type": "execute_result"
    }
   ],
   "source": [
    "# Look for missing data\n",
    "train.isna().sum()"
   ]
  },
  {
   "cell_type": "code",
   "execution_count": 13,
   "metadata": {},
   "outputs": [
    {
     "data": {
      "text/plain": [
       "23"
      ]
     },
     "execution_count": 13,
     "metadata": {},
     "output_type": "execute_result"
    }
   ],
   "source": [
    "sum(train['dropoff_longitude'].isna() & train['dropoff_latitude'].isna())"
   ]
  },
  {
   "cell_type": "code",
   "execution_count": 14,
   "metadata": {},
   "outputs": [
    {
     "data": {
      "text/plain": [
       "<matplotlib.axes._subplots.AxesSubplot at 0x1f38cc00470>"
      ]
     },
     "execution_count": 14,
     "metadata": {},
     "output_type": "execute_result"
    },
    {
     "data": {
      "image/png": "[encoded data removed]",
      "text/plain": [
       "<Figure size 576x288 with 2 Axes>"
      ]
     },
     "metadata": {
      "needs_background": "light"
     },
     "output_type": "display_data"
    }
   ],
   "source": [
    "# Shows that missings values occurs simultaneously on both columns\n",
    "msno.heatmap(train, figsize=(8, 4))"
   ]
  },
  {
   "cell_type": "markdown",
   "metadata": {},
   "source": [
    "Pode-se notar que apenas as colunas `dropoff_longitude` e `dropoff_latitude` possuem dados faltando. Também é possível perceber que os dados estão faltando da mesma obsevação nas duas colunas. Além disso, nenhuma dado duplicado foi encontrado.\n",
    "\n",
    "**Como o total de dados faltando corresponde a 23 observações, e isso representa apenas 0.00076% do total dos dados, podemos remover essas linhas ao invés de substituílos pela mediana ou outra estatística.**"
   ]
  },
  {
   "cell_type": "code",
   "execution_count": 15,
   "metadata": {},
   "outputs": [
    {
     "data": {
      "text/plain": [
       "(2999977, 8)"
      ]
     },
     "execution_count": 15,
     "metadata": {},
     "output_type": "execute_result"
    }
   ],
   "source": [
    "# Cleaned data\n",
    "c_train = train[train['dropoff_longitude'].notna()]\n",
    "c_train.shape"
   ]
  },
  {
   "cell_type": "markdown",
   "metadata": {},
   "source": [
    "## Visualizar os Dados\n",
    "\n",
    "Agora que só temos dados completos e não duplicados, vamos verificar a consistência dos valores das colunas. Para isso, iremos plotar algumas visualizações."
   ]
  },
  {
   "cell_type": "code",
   "execution_count": 16,
   "metadata": {},
   "outputs": [
    {
     "data": {
      "text/html": [
       "<div>\n",
       "<style scoped>\n",
       "    .dataframe tbody tr th:only-of-type {\n",
       "        vertical-align: middle;\n",
       "    }\n",
       "\n",
       "    .dataframe tbody tr th {\n",
       "        vertical-align: top;\n",
       "    }\n",
       "\n",
       "    .dataframe thead th {\n",
       "        text-align: right;\n",
       "    }\n",
       "</style>\n",
       "<table border=\"1\" class=\"dataframe\">\n",
       "  <thead>\n",
       "    <tr style=\"text-align: right;\">\n",
       "      <th></th>\n",
       "      <th>fare_amount</th>\n",
       "      <th>pickup_longitude</th>\n",
       "      <th>pickup_latitude</th>\n",
       "      <th>dropoff_longitude</th>\n",
       "      <th>dropoff_latitude</th>\n",
       "      <th>passenger_count</th>\n",
       "    </tr>\n",
       "  </thead>\n",
       "  <tbody>\n",
       "    <tr>\n",
       "      <th>count</th>\n",
       "      <td>2.999977e+06</td>\n",
       "      <td>2.999977e+06</td>\n",
       "      <td>2.999977e+06</td>\n",
       "      <td>2.999977e+06</td>\n",
       "      <td>2.999977e+06</td>\n",
       "      <td>2.999977e+06</td>\n",
       "    </tr>\n",
       "    <tr>\n",
       "      <th>mean</th>\n",
       "      <td>1.134238e+01</td>\n",
       "      <td>-7.250895e+01</td>\n",
       "      <td>3.992034e+01</td>\n",
       "      <td>-7.250740e+01</td>\n",
       "      <td>3.991728e+01</td>\n",
       "      <td>1.684541e+00</td>\n",
       "    </tr>\n",
       "    <tr>\n",
       "      <th>std</th>\n",
       "      <td>9.828730e+00</td>\n",
       "      <td>1.320222e+01</td>\n",
       "      <td>8.644442e+00</td>\n",
       "      <td>1.308827e+01</td>\n",
       "      <td>9.984419e+00</td>\n",
       "      <td>1.329081e+00</td>\n",
       "    </tr>\n",
       "    <tr>\n",
       "      <th>min</th>\n",
       "      <td>-6.200000e+01</td>\n",
       "      <td>-3.426609e+03</td>\n",
       "      <td>-3.488080e+03</td>\n",
       "      <td>-3.408430e+03</td>\n",
       "      <td>-3.488080e+03</td>\n",
       "      <td>0.000000e+00</td>\n",
       "    </tr>\n",
       "    <tr>\n",
       "      <th>25%</th>\n",
       "      <td>6.000000e+00</td>\n",
       "      <td>-7.399207e+01</td>\n",
       "      <td>4.073492e+01</td>\n",
       "      <td>-7.399139e+01</td>\n",
       "      <td>4.073402e+01</td>\n",
       "      <td>1.000000e+00</td>\n",
       "    </tr>\n",
       "    <tr>\n",
       "      <th>50%</th>\n",
       "      <td>8.500000e+00</td>\n",
       "      <td>-7.398181e+01</td>\n",
       "      <td>4.075263e+01</td>\n",
       "      <td>-7.398016e+01</td>\n",
       "      <td>4.075315e+01</td>\n",
       "      <td>1.000000e+00</td>\n",
       "    </tr>\n",
       "    <tr>\n",
       "      <th>75%</th>\n",
       "      <td>1.250000e+01</td>\n",
       "      <td>-7.396710e+01</td>\n",
       "      <td>4.076712e+01</td>\n",
       "      <td>-7.396367e+01</td>\n",
       "      <td>4.076811e+01</td>\n",
       "      <td>2.000000e+00</td>\n",
       "    </tr>\n",
       "    <tr>\n",
       "      <th>max</th>\n",
       "      <td>1.273310e+03</td>\n",
       "      <td>3.439426e+03</td>\n",
       "      <td>2.912465e+03</td>\n",
       "      <td>3.457622e+03</td>\n",
       "      <td>3.345917e+03</td>\n",
       "      <td>2.080000e+02</td>\n",
       "    </tr>\n",
       "  </tbody>\n",
       "</table>\n",
       "</div>"
      ],
      "text/plain": [
       "        fare_amount  pickup_longitude  pickup_latitude  dropoff_longitude  \\\n",
       "count  2.999977e+06      2.999977e+06     2.999977e+06       2.999977e+06   \n",
       "mean   1.134238e+01     -7.250895e+01     3.992034e+01      -7.250740e+01   \n",
       "std    9.828730e+00      1.320222e+01     8.644442e+00       1.308827e+01   \n",
       "min   -6.200000e+01     -3.426609e+03    -3.488080e+03      -3.408430e+03   \n",
       "25%    6.000000e+00     -7.399207e+01     4.073492e+01      -7.399139e+01   \n",
       "50%    8.500000e+00     -7.398181e+01     4.075263e+01      -7.398016e+01   \n",
       "75%    1.250000e+01     -7.396710e+01     4.076712e+01      -7.396367e+01   \n",
       "max    1.273310e+03      3.439426e+03     2.912465e+03       3.457622e+03   \n",
       "\n",
       "       dropoff_latitude  passenger_count  \n",
       "count      2.999977e+06     2.999977e+06  \n",
       "mean       3.991728e+01     1.684541e+00  \n",
       "std        9.984419e+00     1.329081e+00  \n",
       "min       -3.488080e+03     0.000000e+00  \n",
       "25%        4.073402e+01     1.000000e+00  \n",
       "50%        4.075315e+01     1.000000e+00  \n",
       "75%        4.076811e+01     2.000000e+00  \n",
       "max        3.345917e+03     2.080000e+02  "
      ]
     },
     "execution_count": 16,
     "metadata": {},
     "output_type": "execute_result"
    }
   ],
   "source": [
    "# Description numeric values\n",
    "c_train.describe()"
   ]
  },
  {
   "cell_type": "code",
   "execution_count": 17,
   "metadata": {},
   "outputs": [
    {
     "data": {
      "image/png": "[encoded data removed]",
      "text/plain": [
       "<Figure size 864x432 with 6 Axes>"
      ]
     },
     "metadata": {
      "needs_background": "light"
     },
     "output_type": "display_data"
    }
   ],
   "source": [
    "# Values distribution\n",
    "c_train.hist(bins=30, figsize=(12, 6))\n",
    "plt.tight_layout()"
   ]
  },
  {
   "cell_type": "markdown",
   "metadata": {},
   "source": [
    "Aqui podemos notar um problema comum em todas as colunas, **Outliers**.\n",
    "\n",
    "Para lidarmos com esse problema devemos ter certo conhecimento sobre o problema em si. Então, iremos analisar cada tipo de coluna isoladamente."
   ]
  },
  {
   "cell_type": "markdown",
   "metadata": {},
   "source": [
    "### Removendo Outliers\n",
    "**Outliers** por definição são dados peculiarmente distantes dos demais valores. Eles podem ser erros de digitação, leitura de sensores, ruído, ou um dado real extraordinário.\n",
    "Agora, vamos verificar os dados para cada tipo de coluna."
   ]
  },
  {
   "cell_type": "markdown",
   "metadata": {},
   "source": [
    "\n",
    "#### 1. Dados de Latitudes e Longitudes - *Dropoff* e *Pickup*\n",
    "Um rápida busca no site [BoundingBox](https://boundingbox.klokantech.com/) nos mostra os limites aproximados de latitude/longitude da região ao entorno da cidade de Nova York.\n",
    "- Limites de Longitude: [-74.26, -73.70]\n",
    "- Limites de Latitude: [ 40.48, 40.92]\n",
    "\n",
    "![](https://i.imgur.com/nIwyc8l.png)\n",
    "\n",
    "Assim, podemos esses dados como referência de limite para os dados de latitude e longitude. Fazendo essa escolha, estamos limitando os dados para a região próxima de Nova York, que é onde há a maior ocorrências de dados."
   ]
  },
  {
   "cell_type": "markdown",
   "metadata": {},
   "source": [
    "#### 2. Dados Numéricos - Tarifa e Passageiros\n",
    "As outras colunas, `fare_amount` e `passenger_count` são valores numéricos. \n",
    "Por razões óbvias, podemos definir que o valor da tarifa deve ser **maior que zero**, caso contrário, o taxi não em serviço. Enquanto que o número de passageiros pode ser **maior ou igual a zero**, já que o taxi pode ir pegar alguém vazio e cobrar pelo trajeto, por exemplo. De acordo com o site do [Aeroporto Internacional de Nova York](https://www.jfkairport.com/to-from-airport/taxi-car-and-van-service) o número máximo de passageiros em um taxi na cidade é de **5**, então temos o nosso limite superior de `passenger_count`.\n",
    "Para o limite superior de `fare_amount` podemos usar a regra prática de remover valores acima de [Q3](https://pt.wikipedia.org/wiki/Quartil) + 1.5 [IQR](https://pt.wikipedia.org/wiki/Amplitude_interquartil). Nesse caso, seremos mais conservadores e removeremos apenas valores acima de Q3 + 5IQR.\n",
    "\n",
    "Assim, podemos iniciar o processo de remoção dos **Outliers**."
   ]
  },
  {
   "cell_type": "code",
   "execution_count": 18,
   "metadata": {},
   "outputs": [
    {
     "name": "stdout",
     "output_type": "stream",
     "text": [
      "Data reduced 6.21%\n"
     ]
    }
   ],
   "source": [
    "# Remove all lattitude and longitude below threhold\n",
    "lat_min = 40.48\n",
    "lon_min = -74.26\n",
    "lat_max = 40.92\n",
    "lon_max = -73.70\n",
    "\n",
    "# Remove all negative values and above Q3 + 5 IQR\n",
    "fare_iqr = c_train['fare_amount'].quantile(.75) - c_train['fare_amount'].quantile(.25)\n",
    "fare_max = c_train['fare_amount'].quantile(.75) + 5 * fare_iqr\n",
    "passenger_max = 5\n",
    "\n",
    "# Data without outliers\n",
    "o_train = c_train[((c_train['dropoff_longitude'] <= lon_max) &\n",
    "                   (c_train['dropoff_longitude'] >= lon_min) &\n",
    "                   (c_train['pickup_longitude'] <= lon_max) &\n",
    "                   (c_train['pickup_longitude'] >= lon_min) &\n",
    "                   (c_train['dropoff_latitude'] <= lat_max) &\n",
    "                   (c_train['dropoff_latitude'] >= lat_min) &\n",
    "                   (c_train['pickup_latitude'] <= lat_max) &\n",
    "                   (c_train['pickup_latitude'] >= lat_min) &\n",
    "                   (c_train['fare_amount'] > 0) &\n",
    "                   (c_train['fare_amount'] <= fare_max) &\n",
    "                   (c_train['passenger_count'] >= 0) &\n",
    "                   (c_train['passenger_count'] <= passenger_max))].copy()\n",
    "# Data shrink\n",
    "print(\"Data reduced \" + f\"{100 - (o_train.shape[0] / c_train.shape[0] * 100):.2f}\" + \"%\")"
   ]
  },
  {
   "cell_type": "markdown",
   "metadata": {},
   "source": [
    "Agora, se dermos uma olhada nos nossos dados novamente. Teremos distribuições mais mais plausíveis para as variáveis."
   ]
  },
  {
   "cell_type": "code",
   "execution_count": 17,
   "metadata": {},
   "outputs": [
    {
     "data": {
      "text/html": [
       "<div>\n",
       "<style scoped>\n",
       "    .dataframe tbody tr th:only-of-type {\n",
       "        vertical-align: middle;\n",
       "    }\n",
       "\n",
       "    .dataframe tbody tr th {\n",
       "        vertical-align: top;\n",
       "    }\n",
       "\n",
       "    .dataframe thead th {\n",
       "        text-align: right;\n",
       "    }\n",
       "</style>\n",
       "<table border=\"1\" class=\"dataframe\">\n",
       "  <thead>\n",
       "    <tr style=\"text-align: right;\">\n",
       "      <th></th>\n",
       "      <th>fare_amount</th>\n",
       "      <th>pickup_longitude</th>\n",
       "      <th>pickup_latitude</th>\n",
       "      <th>dropoff_longitude</th>\n",
       "      <th>dropoff_latitude</th>\n",
       "      <th>passenger_count</th>\n",
       "    </tr>\n",
       "  </thead>\n",
       "  <tbody>\n",
       "    <tr>\n",
       "      <th>count</th>\n",
       "      <td>2.813656e+06</td>\n",
       "      <td>2.813656e+06</td>\n",
       "      <td>2.813656e+06</td>\n",
       "      <td>2.813656e+06</td>\n",
       "      <td>2.813656e+06</td>\n",
       "      <td>2.813656e+06</td>\n",
       "    </tr>\n",
       "    <tr>\n",
       "      <th>mean</th>\n",
       "      <td>1.036353e+01</td>\n",
       "      <td>-7.397732e+01</td>\n",
       "      <td>4.075176e+01</td>\n",
       "      <td>-7.397546e+01</td>\n",
       "      <td>4.075194e+01</td>\n",
       "      <td>1.590449e+00</td>\n",
       "    </tr>\n",
       "    <tr>\n",
       "      <th>std</th>\n",
       "      <td>6.913527e+00</td>\n",
       "      <td>2.914736e-02</td>\n",
       "      <td>2.508249e-02</td>\n",
       "      <td>2.951490e-02</td>\n",
       "      <td>2.931153e-02</td>\n",
       "      <td>1.156118e+00</td>\n",
       "    </tr>\n",
       "    <tr>\n",
       "      <th>min</th>\n",
       "      <td>1.000000e-02</td>\n",
       "      <td>-7.425918e+01</td>\n",
       "      <td>4.048254e+01</td>\n",
       "      <td>-7.425958e+01</td>\n",
       "      <td>4.048345e+01</td>\n",
       "      <td>0.000000e+00</td>\n",
       "    </tr>\n",
       "    <tr>\n",
       "      <th>25%</th>\n",
       "      <td>6.000000e+00</td>\n",
       "      <td>-7.399239e+01</td>\n",
       "      <td>4.073712e+01</td>\n",
       "      <td>-7.399158e+01</td>\n",
       "      <td>4.073630e+01</td>\n",
       "      <td>1.000000e+00</td>\n",
       "    </tr>\n",
       "    <tr>\n",
       "      <th>50%</th>\n",
       "      <td>8.100000e+00</td>\n",
       "      <td>-7.398222e+01</td>\n",
       "      <td>4.075364e+01</td>\n",
       "      <td>-7.398071e+01</td>\n",
       "      <td>4.075411e+01</td>\n",
       "      <td>1.000000e+00</td>\n",
       "    </tr>\n",
       "    <tr>\n",
       "      <th>75%</th>\n",
       "      <td>1.210000e+01</td>\n",
       "      <td>-7.396896e+01</td>\n",
       "      <td>4.076768e+01</td>\n",
       "      <td>-7.396588e+01</td>\n",
       "      <td>4.076849e+01</td>\n",
       "      <td>2.000000e+00</td>\n",
       "    </tr>\n",
       "    <tr>\n",
       "      <th>max</th>\n",
       "      <td>4.500000e+01</td>\n",
       "      <td>-7.370023e+01</td>\n",
       "      <td>4.091955e+01</td>\n",
       "      <td>-7.370011e+01</td>\n",
       "      <td>4.091987e+01</td>\n",
       "      <td>5.000000e+00</td>\n",
       "    </tr>\n",
       "  </tbody>\n",
       "</table>\n",
       "</div>"
      ],
      "text/plain": [
       "        fare_amount  pickup_longitude  pickup_latitude  dropoff_longitude  \\\n",
       "count  2.813656e+06      2.813656e+06     2.813656e+06       2.813656e+06   \n",
       "mean   1.036353e+01     -7.397732e+01     4.075176e+01      -7.397546e+01   \n",
       "std    6.913527e+00      2.914736e-02     2.508249e-02       2.951490e-02   \n",
       "min    1.000000e-02     -7.425918e+01     4.048254e+01      -7.425958e+01   \n",
       "25%    6.000000e+00     -7.399239e+01     4.073712e+01      -7.399158e+01   \n",
       "50%    8.100000e+00     -7.398222e+01     4.075364e+01      -7.398071e+01   \n",
       "75%    1.210000e+01     -7.396896e+01     4.076768e+01      -7.396588e+01   \n",
       "max    4.500000e+01     -7.370023e+01     4.091955e+01      -7.370011e+01   \n",
       "\n",
       "       dropoff_latitude  passenger_count  \n",
       "count      2.813656e+06     2.813656e+06  \n",
       "mean       4.075194e+01     1.590449e+00  \n",
       "std        2.931153e-02     1.156118e+00  \n",
       "min        4.048345e+01     0.000000e+00  \n",
       "25%        4.073630e+01     1.000000e+00  \n",
       "50%        4.075411e+01     1.000000e+00  \n",
       "75%        4.076849e+01     2.000000e+00  \n",
       "max        4.091987e+01     5.000000e+00  "
      ]
     },
     "execution_count": 17,
     "metadata": {},
     "output_type": "execute_result"
    }
   ],
   "source": [
    "# New description\n",
    "o_train.describe()"
   ]
  },
  {
   "cell_type": "code",
   "execution_count": 18,
   "metadata": {},
   "outputs": [
    {
     "data": {
      "image/png": "[encoded data removed]",
      "text/plain": [
       "<Figure size 864x432 with 6 Axes>"
      ]
     },
     "metadata": {
      "needs_background": "light"
     },
     "output_type": "display_data"
    }
   ],
   "source": [
    "o_train.hist(bins=30, figsize=(12, 6))\n",
    "plt.tight_layout()"
   ]
  },
  {
   "cell_type": "markdown",
   "metadata": {},
   "source": [
    "### Dados Geográficos\n",
    "\n",
    "Vamos visualizar os dados geográficos do usando o `folium`. \n",
    "\n",
    "Primeiramente, vamos verificar os locais de pick-up mais frequentes. Para facilitar a renderização dos resultados iremos retirar amostras dos dados."
   ]
  },
  {
   "cell_type": "code",
   "execution_count": 85,
   "metadata": {},
   "outputs": [],
   "source": [
    "import folium\n",
    "import numpy as np\n",
    "from folium import plugins\n",
    "\n",
    "# Workaround function for jupyter lab map display\n",
    "def embed_map(m, name):\n",
    "    from IPython.display import IFrame\n",
    "\n",
    "    m.save(name)\n",
    "    return IFrame(name, width='100%', height='750px')"
   ]
  },
  {
   "cell_type": "code",
   "execution_count": 86,
   "metadata": {},
   "outputs": [
    {
     "data": {
      "text/html": [
       "\n",
       "        <iframe\n",
       "            width=\"100%\"\n",
       "            height=\"750px\"\n",
       "            src=\"pickup_Heatmap.html\"\n",
       "            frameborder=\"0\"\n",
       "            allowfullscreen\n",
       "        ></iframe>\n",
       "        "
      ],
      "text/plain": [
       "<IPython.lib.display.IFrame at 0x1f38b0f30b8>"
      ]
     },
     "execution_count": 86,
     "metadata": {},
     "output_type": "execute_result"
    }
   ],
   "source": [
    "# Folium's Map object\n",
    "m = folium.Map(location=[(lat_max - lat_min)/2 + lat_min,\n",
    "                         (lon_max - lon_min)/2 + lon_min], zoom_start=11)\n",
    "\n",
    "# All coordinates of 100k samples\n",
    "samples_100k = o_train.sample(100000)\n",
    "pickup_coords = list(zip(samples_100k['pickup_latitude'],\n",
    "                         samples_100k['pickup_longitude'],\n",
    "                         np.ones(len(samples_100k['pickup_latitude']))*.15))\n",
    "\n",
    "plugins.HeatMap(pickup_coords, min_opacity=.2, radius=10, blur=5, ).add_to(m)\n",
    "# m.save('pickup_Heatmap.html')\n",
    "embed_map(m, 'pickup_Heatmap.html')\n"
   ]
  },
  {
   "cell_type": "code",
   "execution_count": 87,
   "metadata": {},
   "outputs": [
    {
     "data": {
      "text/html": [
       "\n",
       "        <iframe\n",
       "            width=\"100%\"\n",
       "            height=\"750px\"\n",
       "            src=\"dropoff_Heatmap.html\"\n",
       "            frameborder=\"0\"\n",
       "            allowfullscreen\n",
       "        ></iframe>\n",
       "        "
      ],
      "text/plain": [
       "<IPython.lib.display.IFrame at 0x1f38b0fa7b8>"
      ]
     },
     "execution_count": 87,
     "metadata": {},
     "output_type": "execute_result"
    }
   ],
   "source": [
    "# Folium's Map object\n",
    "m = folium.Map(location=[(lat_max - lat_min)/2 + lat_min,\n",
    "                         (lon_max - lon_min)/2 + lon_min], zoom_start=11)\n",
    "\n",
    "dropoff_coords = list(zip(samples_100k['dropoff_latitude'],\n",
    "                          samples_100k['dropoff_longitude'],\n",
    "                          np.ones(len(samples_100k['dropoff_latitude']))*.15))\n",
    "plugins.HeatMap(dropoff_coords, min_opacity=.2, radius=10, blur=5).add_to(m)\n",
    "# m.save('dropoff_Heatmap.html')\n",
    "embed_map(m, 'dropoff_Heatmap.html')"
   ]
  },
  {
   "cell_type": "code",
   "execution_count": 88,
   "metadata": {},
   "outputs": [
    {
     "data": {
      "text/html": [
       "\n",
       "        <iframe\n",
       "            width=\"100%\"\n",
       "            height=\"750px\"\n",
       "            src=\"pickup_HeatmapTime.html\"\n",
       "            frameborder=\"0\"\n",
       "            allowfullscreen\n",
       "        ></iframe>\n",
       "        "
      ],
      "text/plain": [
       "<IPython.lib.display.IFrame at 0x1f38b0f0dd8>"
      ]
     },
     "execution_count": 88,
     "metadata": {},
     "output_type": "execute_result"
    }
   ],
   "source": [
    "# Folium's Map object\n",
    "m = folium.Map(location=[(lat_max - lat_min)/2 + lat_min,\n",
    "                         (lon_max - lon_min)/2 + lon_min], zoom_start=11)\n",
    "\n",
    "# Hourly samples\n",
    "hour_index = [f\"{i:2d}:00\" for i in range(24)]\n",
    "pickup_hourly_samples = []\n",
    "# Create data for each hour of the day\n",
    "for i in range(24):\n",
    "    hourly = samples_100k[samples_100k['pickup_datetime'].dt.hour == i]\n",
    "    coords = list(map(list, zip(hourly['pickup_latitude'], \n",
    "                                hourly['pickup_longitude'],\n",
    "                                np.ones(len(hourly.pickup_longitude))*.15)))\n",
    "    pickup_hourly_samples.append(coords)\n",
    "\n",
    "plugins.HeatMapWithTime(pickup_hourly_samples, index=hour_index,\n",
    "                        min_opacity=0.2, max_opacity=1, radius=10).add_to(m)\n",
    "# m.save('pickup_HeatmapTime.html')\n",
    "embed_map(m, 'pickup_HeatmapTime.html')"
   ]
  },
  {
   "cell_type": "code",
   "execution_count": 89,
   "metadata": {},
   "outputs": [
    {
     "data": {
      "text/html": [
       "\n",
       "        <iframe\n",
       "            width=\"100%\"\n",
       "            height=\"750px\"\n",
       "            src=\"dropoff_HeatmapTime.html\"\n",
       "            frameborder=\"0\"\n",
       "            allowfullscreen\n",
       "        ></iframe>\n",
       "        "
      ],
      "text/plain": [
       "<IPython.lib.display.IFrame at 0x1f38b41fba8>"
      ]
     },
     "execution_count": 89,
     "metadata": {},
     "output_type": "execute_result"
    }
   ],
   "source": [
    "# Folium's Map object\n",
    "m = folium.Map(location=[(lat_max - lat_min)/2 + lat_min,\n",
    "                         (lon_max - lon_min)/2 + lon_min], zoom_start=11)\n",
    "\n",
    "# Hourly samples\n",
    "hour_index = [f\"{i:2d}:00\" for i in range(24)]\n",
    "dropoff_hourly_samples = []\n",
    "# Create data for each hour of the day\n",
    "for i in range(24):\n",
    "    hourly = samples_100k[samples_100k['pickup_datetime'].dt.hour == i]\n",
    "    coords = list(map(list, zip(hourly['dropoff_latitude'], \n",
    "                                hourly['dropoff_longitude'],\n",
    "                                np.ones(len(hourly.pickup_longitude))*.15)))\n",
    "    dropoff_hourly_samples.append(coords)\n",
    "\n",
    "plugins.HeatMapWithTime(dropoff_hourly_samples, index=hour_index,\n",
    "                        min_opacity=.2, max_opacity=1, radius=10, ).add_to(m)\n",
    "# m.save('dropoff_HeatmapTime.html')\n",
    "embed_map(m, 'dropoff_HeatmapTime.html')"
   ]
  },
  {
   "cell_type": "markdown",
   "metadata": {},
   "source": [
    "Podemos notar algumas coisas. Nos primeiros mapas, os lugares onde os passeios terminam tende a ser a mais espalhados do centro da cidade. Nos mapas com variação do tempo, temos o êxodo esperado ao longo do dia e a redução de demanda com o ciclo dia/noite da cidade."
   ]
  },
  {
   "cell_type": "markdown",
   "metadata": {},
   "source": [
    "## Procurar por Correlações\n",
    "\n",
    "Verificando as correlações das variáveis com a nossa variável alvo, podemos tirar conclusões sobre as variáveis mais **importantes** ou possívelmente **redudantes**."
   ]
  },
  {
   "cell_type": "code",
   "execution_count": 24,
   "metadata": {},
   "outputs": [
    {
     "data": {
      "text/plain": [
       "fare_amount          1.000000\n",
       "dropoff_longitude    0.345355\n",
       "pickup_longitude     0.312644\n",
       "passenger_count      0.008940\n",
       "pickup_latitude     -0.094043\n",
       "dropoff_latitude    -0.104449\n",
       "Name: fare_amount, dtype: float64"
      ]
     },
     "execution_count": 24,
     "metadata": {},
     "output_type": "execute_result"
    }
   ],
   "source": [
    "corr_matrix = o_train.corr()\n",
    "corr_matrix['fare_amount'].sort_values(ascending=False)"
   ]
  },
  {
   "cell_type": "code",
   "execution_count": 25,
   "metadata": {},
   "outputs": [
    {
     "data": {
      "text/plain": [
       "Text(0.5, 1.0, 'Correlation with Fare Amount')"
      ]
     },
     "execution_count": 25,
     "metadata": {},
     "output_type": "execute_result"
    },
    {
     "data": {
      "image/png": "[encoded data removed]",
      "text/plain": [
       "<Figure size 432x288 with 1 Axes>"
      ]
     },
     "metadata": {
      "needs_background": "light"
     },
     "output_type": "display_data"
    }
   ],
   "source": [
    "corr_matrix['fare_amount'].plot.bar(color = 'steelblue');\n",
    "plt.title('Correlation with Fare Amount')"
   ]
  },
  {
   "cell_type": "code",
   "execution_count": 26,
   "metadata": {},
   "outputs": [
    {
     "data": {
      "text/plain": [
       "<matplotlib.axes._subplots.AxesSubplot at 0x1f38e8bd908>"
      ]
     },
     "execution_count": 26,
     "metadata": {},
     "output_type": "execute_result"
    },
    {
     "data": {
      "image/png": "[encoded data removed]",
      "text/plain": [
       "<Figure size 864x432 with 2 Axes>"
      ]
     },
     "metadata": {
      "needs_background": "light"
     },
     "output_type": "display_data"
    }
   ],
   "source": [
    "fig, ax = plt.subplots(figsize=(12, 6))\n",
    "sns.heatmap(corr_matrix, ax=ax, annot=True, fmt=\".2f\", cmap='coolwarm', vmin=-1., vmax=1.)"
   ]
  },
  {
   "cell_type": "markdown",
   "metadata": {},
   "source": [
    "Temos os sequintes problemas:\n",
    "- As informações da coluna `pickup_datetime` não está incluída.\n",
    "- Baixa correlações entre as variáveis e a variável alvo\n",
    "- Correlações entre variáveis mostrando redundância.\n",
    "\n",
    "Felizmente, esses problemas podem ser resolvidos no próximo tópico."
   ]
  },
  {
   "cell_type": "markdown",
   "metadata": {},
   "source": [
    "## Feature Engineering\n",
    "\n",
    "Aqui vamos tentar combinar/manipular as colunas para que as informações presentes nelas fiquem o mais claro possível.\n",
    "### 1. Dados de Geolocalização\n",
    "\n",
    "Anteriormente, vimos que as variáveis de latitude de longitude possuiam uma grande correlação entre si, mostrando que continham informação redundante. Desse modo, vamos combinar essas variáveis de partida e chegada em um única variável, `distance`. Para isso, poderíamos usar a [Fórmula de Vincenty](https://en.wikipedia.org/wiki/Vincenty%27s_formulae) implementada na biblioteca `geopy`. Entretanto, devido a grande quantidade de dados presentes, a [Fórmula de Heaversine](https://en.wikipedia.org/wiki/Haversine_formula) foi utilizada por produzir resultados similares com um gigantesco ganho em tempo de computação.\n",
    "\n",
    "### 2. DateTime\n",
    "\n",
    "Vamos dividir a coluna `pickup_datatime` em informações mais direta e útil. Por exemplo, podemos transformá-la em:\n",
    "- `weekday`, dia da semana.\n",
    "- `month`, mês.\n",
    "- `hour`, hora.\n",
    "- `is_holiday`, se é feriado."
   ]
  },
  {
   "cell_type": "code",
   "execution_count": 27,
   "metadata": {},
   "outputs": [],
   "source": [
    "from pandas.tseries.holiday import USFederalHolidayCalendar as calendar\n",
    "from geopy.distance import distance # Not used\n",
    "# # Vincenty distance - OBS.: SLOW!\n",
    "# o_train['distance'] = o_train.apply(lambda x: distance((x['pickup_latitude'],\n",
    "#                                                         x['pickup_longitude']),\n",
    "#                                                        (x['dropoff_latitude'],\n",
    "#                                                         x['dropoff_longitude'])).km, axis=1)\n",
    "\n",
    "# Heaversine distance vectorized\n",
    "def heaversine_distance(df): \n",
    "    \"\"\"\n",
    "    Calculates heaversine distance of train df. \n",
    "    \"\"\"\n",
    "    # Earth radius\n",
    "    R = 6373.0\n",
    "    # Lat and lon as radians\n",
    "    lat1 = np.radians(df.pickup_latitude.values)\n",
    "    lat2 = np.radians(df.dropoff_latitude.values)\n",
    "    lon1 = np.radians(df.pickup_longitude.values)\n",
    "    lon2 = np.radians(df.dropoff_longitude.values)\n",
    "    # Heaversine formulae\n",
    "    dlat = lat2 - lat1\n",
    "    dlon = lon2 - lon1\n",
    "    a = np.sin(dlat / 2)**2 + np.cos(lat1) * np.cos(lat2) * np.sin(dlon / 2 ) ** 2\n",
    "    c = 2 * np.arctan2(np.sqrt(a), np.sqrt(1 - a))\n",
    "    heav_distances = R * c\n",
    "    \n",
    "    return heav_distances\n",
    "\n",
    "o_train['distance'] = heaversine_distance(o_train)"
   ]
  },
  {
   "cell_type": "code",
   "execution_count": 28,
   "metadata": {},
   "outputs": [],
   "source": [
    "# Add new columns with detailed information from datetime\n",
    "o_train['weekday'] = o_train.pickup_datetime.dt.weekday.copy()\n",
    "o_train['month'] = o_train.pickup_datetime.dt.month.copy()\n",
    "o_train['hour'] = o_train.pickup_datetime.dt.hour.copy()\n",
    "\n",
    "# Create calendar object\n",
    "cal = calendar()\n",
    "holidays = cal.holidays(start=o_train.pickup_datetime.min(), end=o_train.pickup_datetime.max())\n",
    "o_train['is_holiday'] = o_train.pickup_datetime.isin(holidays).astype('int')"
   ]
  },
  {
   "cell_type": "code",
   "execution_count": 29,
   "metadata": {},
   "outputs": [
    {
     "data": {
      "text/plain": [
       "Index(['key', 'fare_amount', 'pickup_datetime', 'pickup_longitude',\n",
       "       'pickup_latitude', 'dropoff_longitude', 'dropoff_latitude',\n",
       "       'passenger_count', 'distance', 'weekday', 'month', 'hour',\n",
       "       'is_holiday'],\n",
       "      dtype='object')"
      ]
     },
     "execution_count": 29,
     "metadata": {},
     "output_type": "execute_result"
    }
   ],
   "source": [
    "o_train.columns"
   ]
  },
  {
   "cell_type": "code",
   "execution_count": 30,
   "metadata": {},
   "outputs": [
    {
     "data": {
      "text/plain": [
       "23"
      ]
     },
     "execution_count": 30,
     "metadata": {},
     "output_type": "execute_result"
    }
   ],
   "source": [
    "# Total observations on holiday days\n",
    "o_train.is_holiday.sum()"
   ]
  },
  {
   "cell_type": "code",
   "execution_count": 31,
   "metadata": {},
   "outputs": [
    {
     "data": {
      "text/html": [
       "<div>\n",
       "<style scoped>\n",
       "    .dataframe tbody tr th:only-of-type {\n",
       "        vertical-align: middle;\n",
       "    }\n",
       "\n",
       "    .dataframe tbody tr th {\n",
       "        vertical-align: top;\n",
       "    }\n",
       "\n",
       "    .dataframe thead th {\n",
       "        text-align: right;\n",
       "    }\n",
       "</style>\n",
       "<table border=\"1\" class=\"dataframe\">\n",
       "  <thead>\n",
       "    <tr style=\"text-align: right;\">\n",
       "      <th></th>\n",
       "      <th>key</th>\n",
       "      <th>fare_amount</th>\n",
       "      <th>passenger_count</th>\n",
       "      <th>weekday</th>\n",
       "      <th>month</th>\n",
       "      <th>hour</th>\n",
       "      <th>is_holiday</th>\n",
       "      <th>distance</th>\n",
       "    </tr>\n",
       "  </thead>\n",
       "  <tbody>\n",
       "    <tr>\n",
       "      <th>0</th>\n",
       "      <td>2009-06-15 17:26:21.0000001</td>\n",
       "      <td>4.5</td>\n",
       "      <td>1</td>\n",
       "      <td>0</td>\n",
       "      <td>6</td>\n",
       "      <td>17</td>\n",
       "      <td>0</td>\n",
       "      <td>1.031088</td>\n",
       "    </tr>\n",
       "    <tr>\n",
       "      <th>1</th>\n",
       "      <td>2010-01-05 16:52:16.0000002</td>\n",
       "      <td>16.9</td>\n",
       "      <td>1</td>\n",
       "      <td>1</td>\n",
       "      <td>1</td>\n",
       "      <td>16</td>\n",
       "      <td>0</td>\n",
       "      <td>8.452786</td>\n",
       "    </tr>\n",
       "    <tr>\n",
       "      <th>2</th>\n",
       "      <td>2011-08-18 00:35:00.00000049</td>\n",
       "      <td>5.7</td>\n",
       "      <td>2</td>\n",
       "      <td>3</td>\n",
       "      <td>8</td>\n",
       "      <td>0</td>\n",
       "      <td>0</td>\n",
       "      <td>1.389961</td>\n",
       "    </tr>\n",
       "    <tr>\n",
       "      <th>3</th>\n",
       "      <td>2012-04-21 04:30:42.0000001</td>\n",
       "      <td>7.7</td>\n",
       "      <td>1</td>\n",
       "      <td>5</td>\n",
       "      <td>4</td>\n",
       "      <td>4</td>\n",
       "      <td>0</td>\n",
       "      <td>2.800149</td>\n",
       "    </tr>\n",
       "    <tr>\n",
       "      <th>4</th>\n",
       "      <td>2010-03-09 07:51:00.000000135</td>\n",
       "      <td>5.3</td>\n",
       "      <td>1</td>\n",
       "      <td>1</td>\n",
       "      <td>3</td>\n",
       "      <td>7</td>\n",
       "      <td>0</td>\n",
       "      <td>1.999784</td>\n",
       "    </tr>\n",
       "    <tr>\n",
       "      <th>5</th>\n",
       "      <td>2011-01-06 09:50:45.0000002</td>\n",
       "      <td>12.1</td>\n",
       "      <td>1</td>\n",
       "      <td>3</td>\n",
       "      <td>1</td>\n",
       "      <td>9</td>\n",
       "      <td>0</td>\n",
       "      <td>3.788428</td>\n",
       "    </tr>\n",
       "    <tr>\n",
       "      <th>6</th>\n",
       "      <td>2012-11-20 20:35:00.0000001</td>\n",
       "      <td>7.5</td>\n",
       "      <td>1</td>\n",
       "      <td>1</td>\n",
       "      <td>11</td>\n",
       "      <td>20</td>\n",
       "      <td>0</td>\n",
       "      <td>1.556295</td>\n",
       "    </tr>\n",
       "    <tr>\n",
       "      <th>7</th>\n",
       "      <td>2012-01-04 17:22:00.00000081</td>\n",
       "      <td>16.5</td>\n",
       "      <td>1</td>\n",
       "      <td>2</td>\n",
       "      <td>1</td>\n",
       "      <td>17</td>\n",
       "      <td>0</td>\n",
       "      <td>4.156749</td>\n",
       "    </tr>\n",
       "    <tr>\n",
       "      <th>8</th>\n",
       "      <td>2012-12-03 13:10:00.000000125</td>\n",
       "      <td>9.0</td>\n",
       "      <td>1</td>\n",
       "      <td>0</td>\n",
       "      <td>12</td>\n",
       "      <td>13</td>\n",
       "      <td>0</td>\n",
       "      <td>1.253625</td>\n",
       "    </tr>\n",
       "    <tr>\n",
       "      <th>9</th>\n",
       "      <td>2009-09-02 01:11:00.00000083</td>\n",
       "      <td>8.9</td>\n",
       "      <td>2</td>\n",
       "      <td>2</td>\n",
       "      <td>9</td>\n",
       "      <td>1</td>\n",
       "      <td>0</td>\n",
       "      <td>2.850521</td>\n",
       "    </tr>\n",
       "  </tbody>\n",
       "</table>\n",
       "</div>"
      ],
      "text/plain": [
       "                             key  fare_amount  passenger_count  weekday  \\\n",
       "0    2009-06-15 17:26:21.0000001          4.5                1        0   \n",
       "1    2010-01-05 16:52:16.0000002         16.9                1        1   \n",
       "2   2011-08-18 00:35:00.00000049          5.7                2        3   \n",
       "3    2012-04-21 04:30:42.0000001          7.7                1        5   \n",
       "4  2010-03-09 07:51:00.000000135          5.3                1        1   \n",
       "5    2011-01-06 09:50:45.0000002         12.1                1        3   \n",
       "6    2012-11-20 20:35:00.0000001          7.5                1        1   \n",
       "7   2012-01-04 17:22:00.00000081         16.5                1        2   \n",
       "8  2012-12-03 13:10:00.000000125          9.0                1        0   \n",
       "9   2009-09-02 01:11:00.00000083          8.9                2        2   \n",
       "\n",
       "   month  hour  is_holiday  distance  \n",
       "0      6    17           0  1.031088  \n",
       "1      1    16           0  8.452786  \n",
       "2      8     0           0  1.389961  \n",
       "3      4     4           0  2.800149  \n",
       "4      3     7           0  1.999784  \n",
       "5      1     9           0  3.788428  \n",
       "6     11    20           0  1.556295  \n",
       "7      1    17           0  4.156749  \n",
       "8     12    13           0  1.253625  \n",
       "9      9     1           0  2.850521  "
      ]
     },
     "execution_count": 31,
     "metadata": {},
     "output_type": "execute_result"
    }
   ],
   "source": [
    "# Remove old redundant columns\n",
    "f_train = o_train[['key', 'fare_amount', 'passenger_count','weekday',\n",
    "                   'month', 'hour', 'is_holiday', 'distance']]\n",
    "f_train.head(10)"
   ]
  },
  {
   "cell_type": "markdown",
   "metadata": {},
   "source": [
    "Com esses dados em uma melhor formatação, podemos testar hipóteses, verificar resultados e remover ruídos dos dados. Antes vamos verificar se melhoramos as correlações entre as **novas variáveis numéricas** e a **variável alvo**."
   ]
  },
  {
   "cell_type": "code",
   "execution_count": 32,
   "metadata": {},
   "outputs": [
    {
     "data": {
      "text/plain": [
       "fare_amount        1.000000\n",
       "distance           0.863250\n",
       "month              0.027180\n",
       "passenger_count    0.008940\n",
       "weekday            0.008776\n",
       "is_holiday        -0.000192\n",
       "hour              -0.020220\n",
       "Name: fare_amount, dtype: float64"
      ]
     },
     "execution_count": 32,
     "metadata": {},
     "output_type": "execute_result"
    }
   ],
   "source": [
    "# New Correlation matrix\n",
    "corr_matrix = f_train.corr()\n",
    "corr_matrix['fare_amount'].sort_values(ascending=False)"
   ]
  },
  {
   "cell_type": "code",
   "execution_count": 33,
   "metadata": {},
   "outputs": [
    {
     "data": {
      "text/plain": [
       "Text(0.5, 1.0, 'Correlation with Fare Amount')"
      ]
     },
     "execution_count": 33,
     "metadata": {},
     "output_type": "execute_result"
    },
    {
     "data": {
      "image/png": "[encoded data removed]",
      "text/plain": [
       "<Figure size 432x288 with 1 Axes>"
      ]
     },
     "metadata": {
      "needs_background": "light"
     },
     "output_type": "display_data"
    }
   ],
   "source": [
    "corr_matrix['fare_amount'].plot.bar(color = 'steelblue');\n",
    "plt.title('Correlation with Fare Amount')"
   ]
  },
  {
   "cell_type": "code",
   "execution_count": 34,
   "metadata": {},
   "outputs": [
    {
     "data": {
      "text/plain": [
       "<matplotlib.axes._subplots.AxesSubplot at 0x1f38ebea630>"
      ]
     },
     "execution_count": 34,
     "metadata": {},
     "output_type": "execute_result"
    },
    {
     "data": {
      "image/png": "[encoded data removed]",
      "text/plain": [
       "<Figure size 864x432 with 2 Axes>"
      ]
     },
     "metadata": {
      "needs_background": "light"
     },
     "output_type": "display_data"
    }
   ],
   "source": [
    "fig, ax = plt.subplots(figsize=(12, 6))\n",
    "sns.heatmap(corr_matrix, ax=ax, annot=True, fmt=\".2f\", cmap='seismic', vmin=-1., vmax=1.)"
   ]
  },
  {
   "cell_type": "code",
   "execution_count": 53,
   "metadata": {},
   "outputs": [
    {
     "data": {
      "text/plain": [
       "<seaborn.axisgrid.JointGrid at 0x20da1863b70>"
      ]
     },
     "execution_count": 53,
     "metadata": {},
     "output_type": "execute_result"
    },
    {
     "data": {
      "image/png": "[encoded data removed]",
      "text/plain": [
       "<Figure size 720x720 with 3 Axes>"
      ]
     },
     "metadata": {
      "needs_background": "light"
     },
     "output_type": "display_data"
    }
   ],
   "source": [
    "# Check correlation between variables\n",
    "sns.jointplot(x='distance', y='fare_amount', data=f_train.sample(50000), joint_kws={'scatter_kws': {'alpha': 0.1}},\n",
    "              kind='reg', height=10, ylim=[0, 45], xlim=[0, 23])"
   ]
  },
  {
   "cell_type": "code",
   "execution_count": null,
   "metadata": {},
   "outputs": [],
   "source": [
    "from bokeh.plotting import output_file, figure, show, save\n",
    "from bokeh.models.tools import HoverTool\n",
    "from bokeh.io import output_notebook\n",
    "\n",
    "# Notebook mode\n",
    "output_notebook()\n",
    "\n",
    "# New sample for manipulated df\n",
    "samples_30k = f_train.sample(30000)\n",
    "x = samples_30k['distance']\n",
    "y = samples_30k['fare_amount']\n",
    "TOOLS = \"hover,pan,wheel_zoom,box_zoom,reset,save\"\n",
    "p = figure(title=\"Distance X Fare\", tools=TOOLS,\n",
    "           y_range=(y.min(), y.max()), x_range=(x.min(), x.max()))\n",
    "\n",
    "p.circle('distance', 'fare_amount', source=samples_30k)\n",
    "p.xaxis[0].axis_label = 'Distance (km)'\n",
    "p.yaxis[0].axis_label = 'Fare ($)'\n",
    "\n",
    "p.hover.tooltips = [\n",
    "    # add to this\n",
    "    (\"(Distance, Fare)\", \"(@distance, @fare_amount)\"),\n",
    "]\n",
    "#save(p, 'scatter.html')\n",
    "from IPython import html\n",
    "\n",
    "\n",
    "# Check correlation between variables\n",
    "# sns.scatterplot(x='distance', y='fare_amount', data=f_train[columns].sample(100000))"
   ]
  },
  {
   "cell_type": "markdown",
   "metadata": {},
   "source": [
    "Podemos ver uma melhora considerável de correlação com a nova variável `distance` **(.86)**, que subtituiu as variáveis de geolocalização. Também podemos notar que nenhuma variável possui muita correlação entre si, portanto, não temos variáveis redundantes. \n",
    "\n",
    "Porém, as novas variáveis `is_holiday`, `week_day`, `hour` e `month` apresentaram pouquíssima correlação com a variável alvo. Mostrando que talvez essas variáveis não alterem tanto o valor das viagens."
   ]
  },
  {
   "cell_type": "markdown",
   "metadata": {},
   "source": [
    "## Outras estatísticas\n",
    "\n",
    "Agora como os dados organizados, podemos verificar dados temporais, como o número de viagens em cada mês, ou como o faturamento dos taxis muda ao longo do ano.\n"
   ]
  },
  {
   "cell_type": "code",
   "execution_count": 58,
   "metadata": {},
   "outputs": [
    {
     "data": {
      "text/plain": [
       "<matplotlib.axes._subplots.AxesSubplot at 0x20da5c85128>"
      ]
     },
     "execution_count": 58,
     "metadata": {},
     "output_type": "execute_result"
    },
    {
     "data": {
      "image/png": "[encoded data removed]",
      "text/plain": [
       "<Figure size 1008x576 with 2 Axes>"
      ]
     },
     "metadata": {
      "needs_background": "light"
     },
     "output_type": "display_data"
    }
   ],
   "source": [
    "# Plot rides per month\n",
    "months = pd.date_range('2018-01-01', periods=12, freq='M').month_name()\n",
    "rides_month = f_train.groupby('month')['key'].count() / 1000\n",
    "rides_month.name = 'Total rides (x1000)'\n",
    "\n",
    "# Plot rides per week\n",
    "weeks = pd.date_range('2018-01-01', periods=7, freq='D').day_name()\n",
    "rides_week = f_train.weekday.value_counts().sort_index() / 1000.\n",
    "rides_week.name = 'Total Rides (x1000) $'\n",
    "\n",
    "# Plots\n",
    "fig, (ax0, ax1) = plt.subplots(2, 1, figsize=(14, 8))\n",
    "ax0.set_ylim(0, 300)\n",
    "ax0.set_yticks(range(0, 300, 25))\n",
    "sns.barplot(x=months, y=rides_month, color='steelblue', ax=ax0)\n",
    "\n",
    "ax1.set_ylim(0, 450)\n",
    "ax1.set_yticks(range(0, 500, 50))\n",
    "sns.barplot(x=weeks, y=rides_week, color='steelblue', ax=ax1)\n"
   ]
  },
  {
   "cell_type": "markdown",
   "metadata": {
    "colab_type": "text",
    "id": "RqMGzwrQbL4t"
   },
   "source": [
    "# Machine Learning - Criação de Modelos\n"
   ]
  },
  {
   "cell_type": "markdown",
   "metadata": {},
   "source": [
    "Com os dados limpos e modificados, podemos prepará-los para modelos de ML/DL."
   ]
  },
  {
   "cell_type": "code",
   "execution_count": 50,
   "metadata": {},
   "outputs": [
    {
     "name": "stdout",
     "output_type": "stream",
     "text": [
      "<class 'pandas.core.frame.DataFrame'>\n",
      "Int64Index: 2813656 entries, 0 to 2999999\n",
      "Data columns (total 16 columns):\n",
      "key                       object\n",
      "fare_amount               float64\n",
      "passenger_count           int64\n",
      "weekday                   int64\n",
      "month                     int64\n",
      "hour                      int64\n",
      "is_holiday                int32\n",
      "distance                  float64\n",
      "hour_sin                  float64\n",
      "hour_cos                  float64\n",
      "weekday_sin               float64\n",
      "weekday_cos               float64\n",
      "month_sin                 float64\n",
      "month_cos                 float64\n",
      "scaled_passenger_count    float64\n",
      "scaled_distance           float64\n",
      "dtypes: float64(10), int32(1), int64(4), object(1)\n",
      "memory usage: 354.2+ MB\n"
     ]
    }
   ],
   "source": [
    "# Recap of data types\n",
    "f_train.info()"
   ]
  },
  {
   "cell_type": "code",
   "execution_count": 51,
   "metadata": {},
   "outputs": [
    {
     "name": "stdout",
     "output_type": "stream",
     "text": [
      "(2813656, 16)\n"
     ]
    },
    {
     "data": {
      "text/html": [
       "<div>\n",
       "<style scoped>\n",
       "    .dataframe tbody tr th:only-of-type {\n",
       "        vertical-align: middle;\n",
       "    }\n",
       "\n",
       "    .dataframe tbody tr th {\n",
       "        vertical-align: top;\n",
       "    }\n",
       "\n",
       "    .dataframe thead th {\n",
       "        text-align: right;\n",
       "    }\n",
       "</style>\n",
       "<table border=\"1\" class=\"dataframe\">\n",
       "  <thead>\n",
       "    <tr style=\"text-align: right;\">\n",
       "      <th></th>\n",
       "      <th>key</th>\n",
       "      <th>fare_amount</th>\n",
       "      <th>passenger_count</th>\n",
       "      <th>weekday</th>\n",
       "      <th>month</th>\n",
       "      <th>hour</th>\n",
       "      <th>is_holiday</th>\n",
       "      <th>distance</th>\n",
       "      <th>hour_sin</th>\n",
       "      <th>hour_cos</th>\n",
       "      <th>weekday_sin</th>\n",
       "      <th>weekday_cos</th>\n",
       "      <th>month_sin</th>\n",
       "      <th>month_cos</th>\n",
       "      <th>scaled_passenger_count</th>\n",
       "      <th>scaled_distance</th>\n",
       "    </tr>\n",
       "  </thead>\n",
       "  <tbody>\n",
       "    <tr>\n",
       "      <th>0</th>\n",
       "      <td>2009-06-15 17:26:21.0000001</td>\n",
       "      <td>4.5</td>\n",
       "      <td>1</td>\n",
       "      <td>0</td>\n",
       "      <td>6</td>\n",
       "      <td>17</td>\n",
       "      <td>0</td>\n",
       "      <td>1.031088</td>\n",
       "      <td>-0.965926</td>\n",
       "      <td>-0.258819</td>\n",
       "      <td>0.000000</td>\n",
       "      <td>1.000000</td>\n",
       "      <td>0.500000</td>\n",
       "      <td>-8.660254e-01</td>\n",
       "      <td>0.2</td>\n",
       "      <td>0.023689</td>\n",
       "    </tr>\n",
       "    <tr>\n",
       "      <th>1</th>\n",
       "      <td>2010-01-05 16:52:16.0000002</td>\n",
       "      <td>16.9</td>\n",
       "      <td>1</td>\n",
       "      <td>1</td>\n",
       "      <td>1</td>\n",
       "      <td>16</td>\n",
       "      <td>0</td>\n",
       "      <td>8.452786</td>\n",
       "      <td>-0.866025</td>\n",
       "      <td>-0.500000</td>\n",
       "      <td>0.781831</td>\n",
       "      <td>0.623490</td>\n",
       "      <td>0.000000</td>\n",
       "      <td>1.000000e+00</td>\n",
       "      <td>0.2</td>\n",
       "      <td>0.194204</td>\n",
       "    </tr>\n",
       "    <tr>\n",
       "      <th>2</th>\n",
       "      <td>2011-08-18 00:35:00.00000049</td>\n",
       "      <td>5.7</td>\n",
       "      <td>2</td>\n",
       "      <td>3</td>\n",
       "      <td>8</td>\n",
       "      <td>0</td>\n",
       "      <td>0</td>\n",
       "      <td>1.389961</td>\n",
       "      <td>0.000000</td>\n",
       "      <td>1.000000</td>\n",
       "      <td>0.433884</td>\n",
       "      <td>-0.900969</td>\n",
       "      <td>-0.500000</td>\n",
       "      <td>-8.660254e-01</td>\n",
       "      <td>0.4</td>\n",
       "      <td>0.031935</td>\n",
       "    </tr>\n",
       "    <tr>\n",
       "      <th>3</th>\n",
       "      <td>2012-04-21 04:30:42.0000001</td>\n",
       "      <td>7.7</td>\n",
       "      <td>1</td>\n",
       "      <td>5</td>\n",
       "      <td>4</td>\n",
       "      <td>4</td>\n",
       "      <td>0</td>\n",
       "      <td>2.800149</td>\n",
       "      <td>0.866025</td>\n",
       "      <td>0.500000</td>\n",
       "      <td>-0.974928</td>\n",
       "      <td>-0.222521</td>\n",
       "      <td>1.000000</td>\n",
       "      <td>6.123234e-17</td>\n",
       "      <td>0.2</td>\n",
       "      <td>0.064334</td>\n",
       "    </tr>\n",
       "    <tr>\n",
       "      <th>4</th>\n",
       "      <td>2010-03-09 07:51:00.000000135</td>\n",
       "      <td>5.3</td>\n",
       "      <td>1</td>\n",
       "      <td>1</td>\n",
       "      <td>3</td>\n",
       "      <td>7</td>\n",
       "      <td>0</td>\n",
       "      <td>1.999784</td>\n",
       "      <td>0.965926</td>\n",
       "      <td>-0.258819</td>\n",
       "      <td>0.781831</td>\n",
       "      <td>0.623490</td>\n",
       "      <td>0.866025</td>\n",
       "      <td>5.000000e-01</td>\n",
       "      <td>0.2</td>\n",
       "      <td>0.045945</td>\n",
       "    </tr>\n",
       "  </tbody>\n",
       "</table>\n",
       "</div>"
      ],
      "text/plain": [
       "                             key  fare_amount  passenger_count  weekday  \\\n",
       "0    2009-06-15 17:26:21.0000001          4.5                1        0   \n",
       "1    2010-01-05 16:52:16.0000002         16.9                1        1   \n",
       "2   2011-08-18 00:35:00.00000049          5.7                2        3   \n",
       "3    2012-04-21 04:30:42.0000001          7.7                1        5   \n",
       "4  2010-03-09 07:51:00.000000135          5.3                1        1   \n",
       "\n",
       "   month  hour  is_holiday  distance  hour_sin  hour_cos  weekday_sin  \\\n",
       "0      6    17           0  1.031088 -0.965926 -0.258819     0.000000   \n",
       "1      1    16           0  8.452786 -0.866025 -0.500000     0.781831   \n",
       "2      8     0           0  1.389961  0.000000  1.000000     0.433884   \n",
       "3      4     4           0  2.800149  0.866025  0.500000    -0.974928   \n",
       "4      3     7           0  1.999784  0.965926 -0.258819     0.781831   \n",
       "\n",
       "   weekday_cos  month_sin     month_cos  scaled_passenger_count  \\\n",
       "0     1.000000   0.500000 -8.660254e-01                     0.2   \n",
       "1     0.623490   0.000000  1.000000e+00                     0.2   \n",
       "2    -0.900969  -0.500000 -8.660254e-01                     0.4   \n",
       "3    -0.222521   1.000000  6.123234e-17                     0.2   \n",
       "4     0.623490   0.866025  5.000000e-01                     0.2   \n",
       "\n",
       "   scaled_distance  \n",
       "0         0.023689  \n",
       "1         0.194204  \n",
       "2         0.031935  \n",
       "3         0.064334  \n",
       "4         0.045945  "
      ]
     },
     "execution_count": 51,
     "metadata": {},
     "output_type": "execute_result"
    }
   ],
   "source": [
    "# Recap of data format\n",
    "print(f_train.shape)\n",
    "f_train.head()"
   ]
  },
  {
   "cell_type": "markdown",
   "metadata": {},
   "source": [
    "## Preparando as Variáveis para os Modelos\n",
    "Agora, vamos manipular as variáveis para que elas reflitam corretamente o seu significado no modelo.\n",
    "\n",
    "1. **Removendo Variáveis de Identificação**: Nesse caso, iremos remover a coluna `key` do nosso dataset.\n",
    "2. **Modificando Variáveis Categóricas**: Como a única variável categórica é binárias (`is_holiday`), não precisamos usar nenhum transformação como *One-hot encoding*.\n",
    "3. **Preparando Variáveis Cíclicas**: Variáveis cíclicas como `hour`, `weekday` e `month` devem ser manipuladas para que o seu comportamento cíclico seja incorporado no modelo. Assim, o modelo pode perceber que que segunda é próximo de domingo, ou que a hora 0 vem após a hora 23. Nesse caso, utilizaremos a transformação em funções trigonométricas `sin` e `cos`.\n",
    "4. **Ajustando a Magnitude das Variáveis Numéricas**: Outra etapa muito importante que tem o propósito de ignorar a intensidade absoluta das variáveis. Assin, dando ênfase as variações relativas.\n",
    "5. **Separando a Variável Alvo**: Nesse caso, iremos separa a variável `fare_amount` do restante do dataset.\n",
    "6. **Dividindo o Dataset em Treino/Teste ou usando CV**: Usaremos uma proporção de 80% treino 20% teste, mas utilizaremos todo o dataset para CV.\n"
   ]
  },
  {
   "cell_type": "code",
   "execution_count": 52,
   "metadata": {},
   "outputs": [],
   "source": [
    "from sklearn.preprocessing import MinMaxScaler\n",
    "from sklearn.model_selection import train_test_split"
   ]
  },
  {
   "cell_type": "code",
   "execution_count": 53,
   "metadata": {},
   "outputs": [],
   "source": [
    "# Managing clyclic variables\n",
    "f_train['hour_sin'] = np.sin(f_train.hour.copy() * (2. * np.pi / 24))\n",
    "f_train['hour_cos'] = np.cos(f_train.hour.copy() * (2. * np.pi / 24))\n",
    "f_train['weekday_sin'] = np.sin(f_train.weekday.copy() * (2. * np.pi / 7))\n",
    "f_train['weekday_cos'] = np.cos(f_train.weekday.copy() * (2. * np.pi / 7))\n",
    "f_train['month_sin'] = np.sin((f_train.month.copy() - 1) * (2. * np.pi / 12))\n",
    "f_train['month_cos'] = np.cos((f_train.month.copy() - 1) * (2. * np.pi / 12))\n",
    "\n",
    "# Scaling variables\n",
    "scaler = MinMaxScaler()\n",
    "scale_features = ['passenger_count', 'distance']\n",
    "f_train['scaled_passenger_count'] = 0\n",
    "f_train['scaled_distance'] = 0\n",
    "f_train[['scaled_passenger_count', 'scaled_distance']] = scaler.fit_transform(f_train[scale_features].values)\n",
    "\n",
    "# Features and target\n",
    "x_cols = ['scaled_passenger_count', 'scaled_distance', 'is_holiday', 'hour_sin', 'hour_cos',\n",
    "          'weekday_sin', 'weekday_cos', 'month_sin', 'month_cos']\n",
    "X = f_train[x_cols]\n",
    "y = f_train['fare_amount']"
   ]
  },
  {
   "cell_type": "code",
   "execution_count": 54,
   "metadata": {},
   "outputs": [
    {
     "data": {
      "text/html": [
       "<div>\n",
       "<style scoped>\n",
       "    .dataframe tbody tr th:only-of-type {\n",
       "        vertical-align: middle;\n",
       "    }\n",
       "\n",
       "    .dataframe tbody tr th {\n",
       "        vertical-align: top;\n",
       "    }\n",
       "\n",
       "    .dataframe thead th {\n",
       "        text-align: right;\n",
       "    }\n",
       "</style>\n",
       "<table border=\"1\" class=\"dataframe\">\n",
       "  <thead>\n",
       "    <tr style=\"text-align: right;\">\n",
       "      <th></th>\n",
       "      <th>scaled_passenger_count</th>\n",
       "      <th>scaled_distance</th>\n",
       "      <th>is_holiday</th>\n",
       "      <th>hour_sin</th>\n",
       "      <th>hour_cos</th>\n",
       "      <th>weekday_sin</th>\n",
       "      <th>weekday_cos</th>\n",
       "      <th>month_sin</th>\n",
       "      <th>month_cos</th>\n",
       "    </tr>\n",
       "  </thead>\n",
       "  <tbody>\n",
       "    <tr>\n",
       "      <th>0</th>\n",
       "      <td>0.2</td>\n",
       "      <td>0.023689</td>\n",
       "      <td>0</td>\n",
       "      <td>-0.965926</td>\n",
       "      <td>-0.258819</td>\n",
       "      <td>0.000000</td>\n",
       "      <td>1.000000</td>\n",
       "      <td>0.500000</td>\n",
       "      <td>-8.660254e-01</td>\n",
       "    </tr>\n",
       "    <tr>\n",
       "      <th>1</th>\n",
       "      <td>0.2</td>\n",
       "      <td>0.194204</td>\n",
       "      <td>0</td>\n",
       "      <td>-0.866025</td>\n",
       "      <td>-0.500000</td>\n",
       "      <td>0.781831</td>\n",
       "      <td>0.623490</td>\n",
       "      <td>0.000000</td>\n",
       "      <td>1.000000e+00</td>\n",
       "    </tr>\n",
       "    <tr>\n",
       "      <th>2</th>\n",
       "      <td>0.4</td>\n",
       "      <td>0.031935</td>\n",
       "      <td>0</td>\n",
       "      <td>0.000000</td>\n",
       "      <td>1.000000</td>\n",
       "      <td>0.433884</td>\n",
       "      <td>-0.900969</td>\n",
       "      <td>-0.500000</td>\n",
       "      <td>-8.660254e-01</td>\n",
       "    </tr>\n",
       "    <tr>\n",
       "      <th>3</th>\n",
       "      <td>0.2</td>\n",
       "      <td>0.064334</td>\n",
       "      <td>0</td>\n",
       "      <td>0.866025</td>\n",
       "      <td>0.500000</td>\n",
       "      <td>-0.974928</td>\n",
       "      <td>-0.222521</td>\n",
       "      <td>1.000000</td>\n",
       "      <td>6.123234e-17</td>\n",
       "    </tr>\n",
       "    <tr>\n",
       "      <th>4</th>\n",
       "      <td>0.2</td>\n",
       "      <td>0.045945</td>\n",
       "      <td>0</td>\n",
       "      <td>0.965926</td>\n",
       "      <td>-0.258819</td>\n",
       "      <td>0.781831</td>\n",
       "      <td>0.623490</td>\n",
       "      <td>0.866025</td>\n",
       "      <td>5.000000e-01</td>\n",
       "    </tr>\n",
       "  </tbody>\n",
       "</table>\n",
       "</div>"
      ],
      "text/plain": [
       "   scaled_passenger_count  scaled_distance  is_holiday  hour_sin  hour_cos  \\\n",
       "0                     0.2         0.023689           0 -0.965926 -0.258819   \n",
       "1                     0.2         0.194204           0 -0.866025 -0.500000   \n",
       "2                     0.4         0.031935           0  0.000000  1.000000   \n",
       "3                     0.2         0.064334           0  0.866025  0.500000   \n",
       "4                     0.2         0.045945           0  0.965926 -0.258819   \n",
       "\n",
       "   weekday_sin  weekday_cos  month_sin     month_cos  \n",
       "0     0.000000     1.000000   0.500000 -8.660254e-01  \n",
       "1     0.781831     0.623490   0.000000  1.000000e+00  \n",
       "2     0.433884    -0.900969  -0.500000 -8.660254e-01  \n",
       "3    -0.974928    -0.222521   1.000000  6.123234e-17  \n",
       "4     0.781831     0.623490   0.866025  5.000000e-01  "
      ]
     },
     "execution_count": 54,
     "metadata": {},
     "output_type": "execute_result"
    }
   ],
   "source": [
    "X.head()"
   ]
  },
  {
   "cell_type": "code",
   "execution_count": 55,
   "metadata": {},
   "outputs": [
    {
     "name": "stdout",
     "output_type": "stream",
     "text": [
      "(2813656, 9)\n",
      "(2813656,)\n"
     ]
    }
   ],
   "source": [
    "print(X.shape)\n",
    "print(y.shape)"
   ]
  },
  {
   "cell_type": "code",
   "execution_count": 56,
   "metadata": {},
   "outputs": [],
   "source": [
    "# Split data\n",
    "X_train, X_test, y_train, y_test = train_test_split(X, y, test_size=.2)"
   ]
  },
  {
   "cell_type": "code",
   "execution_count": 57,
   "metadata": {},
   "outputs": [
    {
     "name": "stdout",
     "output_type": "stream",
     "text": [
      "(2250924, 9)\n",
      "(2250924,)\n",
      "(562732, 9)\n",
      "(562732,)\n"
     ]
    }
   ],
   "source": [
    "print(X_train.shape)\n",
    "print(y_train.shape)\n",
    "print(X_test.shape)\n",
    "print(y_test.shape)"
   ]
  },
  {
   "cell_type": "markdown",
   "metadata": {},
   "source": [
    "## Testando Modelos\n",
    "\n",
    "Com os dados prontos para os modelos, podemos testá-los aplicando vários modelos. Inicialmente, os seguintes modelos foram testados:\n",
    "- Regressão Linear: Modelo linear simples.\n",
    "- Árvore de Decisão: Modelo de árvore simples.\n",
    "- Random Forest: Conjunto de modelo de árvore.\n",
    "- Boosting Algorithms: Algoritmos amplamente usados, similar ao random forest, mas com regularização."
   ]
  },
  {
   "cell_type": "code",
   "execution_count": 58,
   "metadata": {},
   "outputs": [],
   "source": [
    "from sklearn.linear_model import LinearRegression\n",
    "from sklearn.tree import DecisionTreeRegressor\n",
    "from sklearn.ensemble import RandomForestRegressor\n",
    "from sklearn.model_selection import cross_val_score\n",
    "from sklearn.metrics import mean_squared_error\n",
    "import xgboost as xgb"
   ]
  },
  {
   "cell_type": "code",
   "execution_count": 59,
   "metadata": {},
   "outputs": [
    {
     "name": "stdout",
     "output_type": "stream",
     "text": [
      "Linear Regression finished\n",
      "Decision Tree Finished\n",
      "Random Forest Finished\n"
     ]
    }
   ],
   "source": [
    "# SKlearn Models\n",
    "lin_reg = LinearRegression()\n",
    "tree_reg = DecisionTreeRegressor()\n",
    "forest_reg = RandomForestRegressor()\n",
    "\n",
    "# Scores with x-validation\n",
    "lin_scores = cross_val_score(lin_reg, \n",
    "                             X, \n",
    "                             y,\n",
    "                             scoring=\"neg_mean_squared_error\", \n",
    "                             cv=10,\n",
    "                             n_jobs=6)\n",
    "print(\"Linear Regression finished\")\n",
    "decision_scores = cross_val_score(tree_reg,\n",
    "                                  X, \n",
    "                                  y,\n",
    "                                  scoring = \"neg_mean_squared_error\", \n",
    "                                  cv=10,\n",
    "                                  n_jobs=6)\n",
    "print(\"Decision Tree Finished\")\n",
    "forest_scores = cross_val_score(forest_reg,\n",
    "                                X, \n",
    "                                y,\n",
    "                                scoring = \"neg_mean_squared_error\", \n",
    "                                cv=10,\n",
    "                                n_jobs=6)\n",
    "print(\"Random Forest Finished\")"
   ]
  },
  {
   "cell_type": "code",
   "execution_count": 60,
   "metadata": {},
   "outputs": [
    {
     "name": "stdout",
     "output_type": "stream",
     "text": [
      "XGBoost Finished\n"
     ]
    }
   ],
   "source": [
    "# Boost Models\n",
    "xgb_reg = xgb.XGBRegressor()\n",
    "\n",
    "# Scores with x-validation\n",
    "xgb_scores = cross_val_score(xgb_reg, \n",
    "                             X, \n",
    "                             y,\n",
    "                             scoring=\"neg_mean_squared_error\", \n",
    "                             cv=10,\n",
    "                             n_jobs=6)\n",
    "print(\"XGBoost Finished\")"
   ]
  },
  {
   "cell_type": "code",
   "execution_count": 62,
   "metadata": {},
   "outputs": [
    {
     "name": "stdout",
     "output_type": "stream",
     "text": [
      "Linear Regression Results:\n",
      "CV RMSE: 3.45 +/- 0.05\n",
      "\n",
      "Decision Tree Regressor Results:\n",
      "CV RMSE: 4.65 +/- 0.05\n",
      "\n",
      "Random Forest Regressor Results:\n",
      "CV RMSE: 3.56 +/- 0.04\n",
      "\n",
      "X-Gradient Boosting Results:\n",
      "CV RMSE: 3.24 +/- 0.04\n",
      "\n"
     ]
    }
   ],
   "source": [
    "# Test Results\n",
    "lin_rmse_scores = np.sqrt(-lin_scores)\n",
    "decision_rmse_scores = np.sqrt(-decision_scores)\n",
    "forest_rmse_scores = np.sqrt(-forest_scores)\n",
    "xgb_rmse_scores = np.sqrt(-xgb_scores)\n",
    "\n",
    "# Results\n",
    "print(\"Linear Regression Results:\")\n",
    "# print(f\"Test MSE: {lin_rmse_test:.2f}\")\n",
    "print(f\"CV RMSE: {lin_rmse_scores.mean():.2f} +/- {lin_rmse_scores.std() * 2:.2f}\\n\")\n",
    "print(\"Decision Tree Regressor Results:\")\n",
    "# print(f\"Test MSE: {decision_rmse_test:.2f}\")\n",
    "print(f\"CV RMSE: {decision_rmse_scores.mean():.2f} +/- {decision_rmse_scores.std() * 2:.2f}\\n\")\n",
    "print(\"Random Forest Regressor Results:\")\n",
    "# print(f\"Test MSE: {forest_rmse_test:.2f}\")\n",
    "print(f\"CV RMSE: {forest_rmse_scores.mean():.2f} +/- {forest_rmse_scores.std() * 2:.2f}\\n\")\n",
    "print(\"X-Gradient Boosting Results:\")\n",
    "# print(f\"Test MSE: {xgb_rmse_test:.2f}\")\n",
    "print(f\"CV RMSE: {xgb_rmse_scores.mean():.2f} +/- {xgb_rmse_scores.std() * 2:.2f}\\n\")"
   ]
  },
  {
   "cell_type": "markdown",
   "metadata": {},
   "source": [
    "### Sintonizando Hyper-parâmetros\n",
    "\n",
    "Vamos testar vários valores de hyper-parametros para encontrarmos o melhor resultado possível do modelo."
   ]
  },
  {
   "cell_type": "code",
   "execution_count": 64,
   "metadata": {},
   "outputs": [],
   "source": [
    "from sklearn.model_selection import GridSearchCV"
   ]
  },
  {
   "cell_type": "code",
   "execution_count": 66,
   "metadata": {},
   "outputs": [
    {
     "data": {
      "text/plain": [
       "GridSearchCV(cv=5, error_score='raise',\n",
       "       estimator=XGBRegressor(base_score=0.5, booster='gbtree', colsample_bylevel=1,\n",
       "       colsample_bytree=1, gamma=0, learning_rate=0.1, max_delta_step=0,\n",
       "       max_depth=3, min_child_weight=1, missing=None, n_estimators=100,\n",
       "       n_jobs=1, nthread=None, objective='reg:linear', random_state=0,\n",
       "       reg_alpha=0, reg_lambda=1, scale_pos_weight=1, seed=None,\n",
       "       silent=True, subsample=1),\n",
       "       fit_params=None, iid=True, n_jobs=10,\n",
       "       param_grid={'max_depth': [6], 'learning_rate': [0.1], 'n_estimators': [100]},\n",
       "       pre_dispatch='2*n_jobs', refit=True, return_train_score='warn',\n",
       "       scoring='neg_mean_squared_error', verbose=0)"
      ]
     },
     "execution_count": 66,
     "metadata": {},
     "output_type": "execute_result"
    }
   ],
   "source": [
    "parameters = {'max_depth': range(2, 10, 2),\n",
    "              'learning_rate': [0.1, 0.01, 0.001],\n",
    "              'n_estimators': range(100, 600, 100)\n",
    "              }\n",
    "grid_reg = GridSearchCV(xgb_reg,\n",
    "                        parameters,\n",
    "                        scoring='neg_mean_squared_error',\n",
    "                        n_jobs=10,\n",
    "                        cv=5)\n",
    "grid_reg.fit(X, y)"
   ]
  },
  {
   "cell_type": "code",
   "execution_count": 68,
   "metadata": {},
   "outputs": [
    {
     "name": "stdout",
     "output_type": "stream",
     "text": [
      "Best Parameters: {'learning_rate': 0.1, 'max_depth': 6, 'n_estimators': 100}\n",
      "Best Mean CV Score: 3.2242909716821506\n"
     ]
    }
   ],
   "source": [
    "# Results\n",
    "tunedxgb_rmse_scores = np.sqrt(-grid_reg.best_score_)\n",
    "print(f\"Best Parameters: {grid_reg.best_params_}\")\n",
    "print(f\"Best Mean CV Score: {tunedxgb_rmse_scores}\")\n"
   ]
  },
  {
   "cell_type": "markdown",
   "metadata": {},
   "source": [
    "## Resultados\n",
    "\n",
    "Aqui estão os resultados obtidos dos modelos testados."
   ]
  },
  {
   "cell_type": "code",
   "execution_count": 69,
   "metadata": {},
   "outputs": [
    {
     "data": {
      "text/plain": [
       "<matplotlib.axes._subplots.AxesSubplot at 0x1f388e447b8>"
      ]
     },
     "execution_count": 69,
     "metadata": {},
     "output_type": "execute_result"
    },
    {
     "data": {
      "image/png": "[encoded data removed]",
      "text/plain": [
       "<Figure size 576x432 with 1 Axes>"
      ]
     },
     "metadata": {
      "needs_background": "light"
     },
     "output_type": "display_data"
    }
   ],
   "source": [
    "modelos = [\"CV Decision Tree Regressor\", \"CV Random Forest Regressor\", \"CV Linear Regression\",\n",
    "           \"CV XGBoost Regressor\", \"CV Tunned XGBoost Regressor\"]\n",
    "mses = [decision_rmse_scores.mean(), forest_rmse_scores.mean(), lin_rmse_scores.mean(),\n",
    "        xgb_rmse_scores.mean(), tunedxgb_rmse_scores]\n",
    "\n",
    "fig, ax = plt.subplots(figsize=(8, 6))\n",
    "ax.set_xlabel(\"RMSE\")\n",
    "ax.set_ylabel(\"Model\")\n",
    "ax.set_title(\"RMSE Error - Lower Better\")\n",
    "sns.barplot(y=modelos, x=mses, color=\"steelblue\", ax=ax)\n"
   ]
  },
  {
   "cell_type": "code",
   "execution_count": 70,
   "metadata": {},
   "outputs": [
    {
     "data": {
      "text/plain": [
       "<matplotlib.axes._subplots.AxesSubplot at 0x1f38984c2e8>"
      ]
     },
     "execution_count": 70,
     "metadata": {},
     "output_type": "execute_result"
    },
    {
     "data": {
      "image/png": "[encoded data removed]",
      "text/plain": [
       "<Figure size 432x288 with 1 Axes>"
      ]
     },
     "metadata": {
      "needs_background": "light"
     },
     "output_type": "display_data"
    }
   ],
   "source": [
    "xgb.plot_importance(grid_reg.best_estimator_)"
   ]
  },
  {
   "cell_type": "markdown",
   "metadata": {},
   "source": [
    "![](https://i.imgur.com/2f8L9Jq.png)\n",
    "> Usando 5,5% dos dados"
   ]
  },
  {
   "cell_type": "markdown",
   "metadata": {},
   "source": [
    "## Possíveis Melhorias\n",
    "\n",
    "- Incluir os locais de partida e chegada\n",
    "- Utilizar mais dados\n",
    "- Continuar procurando melhores hyper-parâmetros\n",
    "- Aplicar Deep Learning\n"
   ]
  },
  {
   "cell_type": "markdown",
   "metadata": {},
   "source": [
    "# Submissão\n",
    "\n",
    "Submissão no Kaggle compara resultados."
   ]
  },
  {
   "cell_type": "code",
   "execution_count": 71,
   "metadata": {},
   "outputs": [],
   "source": [
    "# Save model\n",
    "import pickle\n",
    "pickle.dump(grid_reg.best_estimator_, open(\"model_taxi.pt\", \"wb\"))"
   ]
  },
  {
   "cell_type": "code",
   "execution_count": 80,
   "metadata": {},
   "outputs": [],
   "source": [
    "# Load model\n",
    "import pickle\n",
    "best_model = pickle.load(open(\"model_taxi.pt\", \"rb\"))"
   ]
  },
  {
   "cell_type": "code",
   "execution_count": 81,
   "metadata": {},
   "outputs": [],
   "source": [
    "# Load test data\n",
    "test = pd.read_csv(\"data_taxi/test.csv\", parse_dates=[\"pickup_datetime\"], infer_datetime_format=True)\n",
    "\n",
    "# Manipulate and prepare\n",
    "test['distance'] = heaversine_distance(test)\n",
    "test['weekday'] = test.pickup_datetime.dt.weekday\n",
    "test['month'] = test.pickup_datetime.dt.month\n",
    "test['hour'] = test.pickup_datetime.dt.hour\n",
    "test['is_holiday'] = test.pickup_datetime.isin(holidays).astype('int')\n",
    "test['hour_sin'] = np.sin(test.hour.copy() * (2. * np.pi / 24))\n",
    "test['hour_cos'] = np.cos(test.hour.copy() * (2. * np.pi / 24))\n",
    "test['weekday_sin'] = np.sin(test.weekday.copy() * (2. * np.pi / 7))\n",
    "test['weekday_cos'] = np.cos(test.weekday.copy() * (2. * np.pi / 7))\n",
    "test['month_sin'] = np.sin((test.month.copy() - 1) * (2. * np.pi / 12))\n",
    "test['month_cos'] = np.cos((test.month.copy() - 1) * (2. * np.pi / 12))\n",
    "test['scaled_passenger_count'] = 0\n",
    "test['scaled_distance'] = 0\n",
    "test[['scaled_passenger_count', 'scaled_distance']] = scaler.transform(test[scale_features].values)\n",
    "\n",
    "# Features and target\n",
    "X_TEST = test[x_cols]"
   ]
  },
  {
   "cell_type": "code",
   "execution_count": 82,
   "metadata": {},
   "outputs": [],
   "source": [
    "# Predicts results\n",
    "sub_pred = best_model.predict(X_TEST)\n",
    "# Save model"
   ]
  },
  {
   "cell_type": "code",
   "execution_count": 83,
   "metadata": {},
   "outputs": [],
   "source": [
    "# Create submission file\n",
    "submission = test[['key']].copy()\n",
    "submission['fare_amount'] = sub_pred\n",
    "\n",
    "submission.to_csv('submission.csv', index=False)"
   ]
  },
  {
   "cell_type": "code",
   "execution_count": 76,
   "metadata": {},
   "outputs": [
    {
     "name": "stdout",
     "output_type": "stream",
     "text": [
      "Successfully submitted to New York City Taxi Fare Prediction\n"
     ]
    },
    {
     "name": "stderr",
     "output_type": "stream",
     "text": [
      "\n",
      "  0%|          | 0.00/379k [00:00<?, ?B/s]\n",
      "  2%|2         | 8.00k/379k [00:00<00:13, 28.7kB/s]\n",
      " 27%|##7       | 104k/379k [00:00<00:06, 40.5kB/s] \n",
      " 55%|#####4    | 208k/379k [00:00<00:03, 56.9kB/s]\n",
      "100%|##########| 379k/379k [00:00<00:00, 80.1kB/s]\n"
     ]
    }
   ],
   "source": [
    "!kaggle competitions submit new-york-city-taxi-fare-prediction -f submission.csv -m \"XGBoost\""
   ]
  },
  {
   "cell_type": "code",
   "execution_count": null,
   "metadata": {},
   "outputs": [],
   "source": []
  }
 ],
 "metadata": {
  "colab": {
   "name": "4. Guided Project - Creating a Kaggle Workflow.ipynb",
   "provenance": [],
   "version": "0.3.2"
  },
  "kernelspec": {
   "display_name": "Python 3",
   "language": "python",
   "name": "python3"
  },
  "language_info": {
   "codemirror_mode": {
    "name": "ipython",
    "version": 3
   },
   "file_extension": ".py",
   "mimetype": "text/x-python",
   "name": "python",
   "nbconvert_exporter": "python",
   "pygments_lexer": "ipython3",
   "version": "3.6.5"
  },
  "latex_envs": {
   "LaTeX_envs_menu_present": true,
   "autoclose": false,
   "autocomplete": true,
   "bibliofile": "biblio.bib",
   "cite_by": "apalike",
   "current_citInitial": 1,
   "eqLabelWithNumbers": true,
   "eqNumInitial": 1,
   "hotkeys": {
    "equation": "Ctrl-E",
    "itemize": "Ctrl-I"
   },
   "labels_anchors": false,
   "latex_user_defs": false,
   "report_style_numbering": false,
   "user_envs_cfg": false
  },
  "nbTranslate": {
   "displayLangs": [
    "*"
   ],
   "hotkey": "alt-t",
   "langInMainMenu": true,
   "sourceLang": "en",
   "targetLang": "fr",
   "useGoogleTranslate": true
  }
 },
 "nbformat": 4,
 "nbformat_minor": 2
}
